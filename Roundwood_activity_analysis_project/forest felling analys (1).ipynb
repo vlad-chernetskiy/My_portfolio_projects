{
 "cells": [
  {
   "cell_type": "code",
   "execution_count": 2,
   "id": "83aed41a-215b-4849-83ad-8cc5b71f3854",
   "metadata": {},
   "outputs": [],
   "source": [
    "import pandas as pd\n",
    "import numpy as np\n",
    "import matplotlib \n",
    "import matplotlib.pyplot as plt\n",
    "import seaborn as sb\n",
    "import statsmodels.api as sm\n",
    "import scipy.stats as sp\n",
    "import statsmodels.stats.diagnostic as ssd\n",
    "#import our data for correlatin analys in python with dataframe."
   ]
  },
  {
   "cell_type": "code",
   "execution_count": 3,
   "id": "a58f5ea1-bb1d-49a0-b236-2a152f277169",
   "metadata": {},
   "outputs": [
    {
     "data": {
      "text/html": [
       "<div>\n",
       "<style scoped>\n",
       "    .dataframe tbody tr th:only-of-type {\n",
       "        vertical-align: middle;\n",
       "    }\n",
       "\n",
       "    .dataframe tbody tr th {\n",
       "        vertical-align: top;\n",
       "    }\n",
       "\n",
       "    .dataframe thead th {\n",
       "        text-align: right;\n",
       "    }\n",
       "</style>\n",
       "<table border=\"1\" class=\"dataframe\">\n",
       "  <thead>\n",
       "    <tr style=\"text-align: right;\">\n",
       "      <th></th>\n",
       "      <th>sum</th>\n",
       "      <th>year</th>\n",
       "    </tr>\n",
       "  </thead>\n",
       "  <tbody>\n",
       "    <tr>\n",
       "      <th>0</th>\n",
       "      <td>1.926767e+07</td>\n",
       "      <td>2015</td>\n",
       "    </tr>\n",
       "    <tr>\n",
       "      <th>1</th>\n",
       "      <td>1.960574e+07</td>\n",
       "      <td>2016</td>\n",
       "    </tr>\n",
       "    <tr>\n",
       "      <th>2</th>\n",
       "      <td>1.895178e+07</td>\n",
       "      <td>2017</td>\n",
       "    </tr>\n",
       "    <tr>\n",
       "      <th>3</th>\n",
       "      <td>1.413270e+07</td>\n",
       "      <td>2018</td>\n",
       "    </tr>\n",
       "    <tr>\n",
       "      <th>4</th>\n",
       "      <td>1.788660e+07</td>\n",
       "      <td>2019</td>\n",
       "    </tr>\n",
       "    <tr>\n",
       "      <th>5</th>\n",
       "      <td>1.677300e+07</td>\n",
       "      <td>2020</td>\n",
       "    </tr>\n",
       "    <tr>\n",
       "      <th>6</th>\n",
       "      <td>1.666690e+07</td>\n",
       "      <td>2021</td>\n",
       "    </tr>\n",
       "    <tr>\n",
       "      <th>7</th>\n",
       "      <td>1.508510e+07</td>\n",
       "      <td>2022</td>\n",
       "    </tr>\n",
       "    <tr>\n",
       "      <th>8</th>\n",
       "      <td>1.525210e+07</td>\n",
       "      <td>2023</td>\n",
       "    </tr>\n",
       "    <tr>\n",
       "      <th>9</th>\n",
       "      <td>1.488580e+07</td>\n",
       "      <td>2024</td>\n",
       "    </tr>\n",
       "  </tbody>\n",
       "</table>\n",
       "</div>"
      ],
      "text/plain": [
       "            sum  year\n",
       "0  1.926767e+07  2015\n",
       "1  1.960574e+07  2016\n",
       "2  1.895178e+07  2017\n",
       "3  1.413270e+07  2018\n",
       "4  1.788660e+07  2019\n",
       "5  1.677300e+07  2020\n",
       "6  1.666690e+07  2021\n",
       "7  1.508510e+07  2022\n",
       "8  1.525210e+07  2023\n",
       "9  1.488580e+07  2024"
      ]
     },
     "execution_count": 3,
     "metadata": {},
     "output_type": "execute_result"
    }
   ],
   "source": [
    "df=pd.DataFrame(pd.read_csv ('C:/Users/borsh/OneDrive/Рабочий стол/BI/projects/ForestlyActivitiesProject/scripts/data-1759582857171.csv'))\n",
    "df.head(10)     "
   ]
  },
  {
   "cell_type": "markdown",
   "id": "a7243c23-5270-4a84-98f4-e20560a22401",
   "metadata": {},
   "source": [
    "Show the plot to look at the data "
   ]
  },
  {
   "cell_type": "code",
   "execution_count": 4,
   "id": "c30a5245-760e-4c3a-9638-916f0ef63b62",
   "metadata": {},
   "outputs": [
    {
     "data": {
      "image/png": "[encoded data removed]",
      "text/plain": [
       "<Figure size 640x480 with 1 Axes>"
      ]
     },
     "metadata": {},
     "output_type": "display_data"
    }
   ],
   "source": [
    "\n",
    "plt.scatter(x=df['year'], y=df['sum'])\n",
    "plt.title('felling trend')\n",
    "plt.xlabel('year')\n",
    "plt.ylabel('roundwood volume')\n",
    "plt.show()"
   ]
  },
  {
   "cell_type": "markdown",
   "id": "3e6c7653-be43-4496-bea3-a0320c8f2ce7",
   "metadata": {},
   "source": [
    "## Build the regression to see the relation "
   ]
  },
  {
   "cell_type": "code",
   "execution_count": 5,
   "id": "5bdca79b-4bdc-47f2-a643-f5806f37f5a6",
   "metadata": {
    "scrolled": true
   },
   "outputs": [
    {
     "name": "stdout",
     "output_type": "stream",
     "text": [
      "                            OLS Regression Results                            \n",
      "==============================================================================\n",
      "Dep. Variable:                    sum   R-squared:                       0.578\n",
      "Model:                            OLS   Adj. R-squared:                  0.526\n",
      "Method:                 Least Squares   F-statistic:                     10.98\n",
      "Date:                Thu, 30 Oct 2025   Prob (F-statistic):             0.0107\n",
      "Time:                        17:43:01   Log-Likelihood:                -154.41\n",
      "No. Observations:                  10   AIC:                             312.8\n",
      "Df Residuals:                       8   BIC:                             313.4\n",
      "Df Model:                           1                                         \n",
      "Covariance Type:            nonrobust                                         \n",
      "==============================================================================\n",
      "                 coef    std err          t      P>|t|      [0.025      0.975]\n",
      "------------------------------------------------------------------------------\n",
      "const        1.03e+09   3.06e+08      3.368      0.010    3.25e+08    1.73e+09\n",
      "year       -5.016e+05   1.51e+05     -3.313      0.011   -8.51e+05   -1.52e+05\n",
      "==============================================================================\n",
      "Omnibus:                       20.307   Durbin-Watson:                   2.621\n",
      "Prob(Omnibus):                  0.000   Jarque-Bera (JB):               12.457\n",
      "Skew:                          -2.129   Prob(JB):                      0.00197\n",
      "Kurtosis:                       6.429   Cond. No.                     1.42e+06\n",
      "==============================================================================\n",
      "\n",
      "Notes:\n",
      "[1] Standard Errors assume that the covariance matrix of the errors is correctly specified.\n",
      "[2] The condition number is large, 1.42e+06. This might indicate that there are\n",
      "strong multicollinearity or other numerical problems.\n"
     ]
    }
   ],
   "source": [
    "\n",
    "x=sm.add_constant(df['year'])\n",
    "y=df['sum']\n",
    "ols_basic= sm.OLS(y,x).fit()\n",
    "print(ols_basic.summary())"
   ]
  },
  {
   "cell_type": "markdown",
   "id": "fa78da29-3ea4-4789-8eff-a404ad268bad",
   "metadata": {},
   "source": [
    "p-value < 0.05 our model is relevant, zero hypothize is rejected "
   ]
  },
  {
   "cell_type": "code",
   "execution_count": 6,
   "id": "8bd6d13e-79dd-4b6a-abb0-580a964aeea4",
   "metadata": {},
   "outputs": [
    {
     "data": {
      "text/html": [
       "<div>\n",
       "<style scoped>\n",
       "    .dataframe tbody tr th:only-of-type {\n",
       "        vertical-align: middle;\n",
       "    }\n",
       "\n",
       "    .dataframe tbody tr th {\n",
       "        vertical-align: top;\n",
       "    }\n",
       "\n",
       "    .dataframe thead th {\n",
       "        text-align: right;\n",
       "    }\n",
       "</style>\n",
       "<table border=\"1\" class=\"dataframe\">\n",
       "  <thead>\n",
       "    <tr style=\"text-align: right;\">\n",
       "      <th></th>\n",
       "      <th>sum</th>\n",
       "      <th>year</th>\n",
       "    </tr>\n",
       "  </thead>\n",
       "  <tbody>\n",
       "    <tr>\n",
       "      <th>sum</th>\n",
       "      <td>1.000000</td>\n",
       "      <td>-0.760529</td>\n",
       "    </tr>\n",
       "    <tr>\n",
       "      <th>year</th>\n",
       "      <td>-0.760529</td>\n",
       "      <td>1.000000</td>\n",
       "    </tr>\n",
       "  </tbody>\n",
       "</table>\n",
       "</div>"
      ],
      "text/plain": [
       "           sum      year\n",
       "sum   1.000000 -0.760529\n",
       "year -0.760529  1.000000"
      ]
     },
     "execution_count": 6,
     "metadata": {},
     "output_type": "execute_result"
    }
   ],
   "source": [
    "#let's look at correlation \n",
    "df.corr()"
   ]
  },
  {
   "cell_type": "markdown",
   "id": "a149db9b-8477-4670-bef0-14f9dc279cd7",
   "metadata": {},
   "source": [
    "High correlation between roundwood volume and year "
   ]
  },
  {
   "cell_type": "markdown",
   "id": "2d6d7774-1aeb-4178-8d51-f413fe5d75c1",
   "metadata": {},
   "source": [
    "## Get a confidence interval"
   ]
  },
  {
   "cell_type": "code",
   "execution_count": 7,
   "id": "6e0912f7-872a-4fbe-95cd-3f234aed578c",
   "metadata": {},
   "outputs": [
    {
     "name": "stdout",
     "output_type": "stream",
     "text": [
      "           mean  mean_ci_lower  mean_ci_upper\n",
      "0  1.910774e+07   1.853683e+07   1.967865e+07\n",
      "1  1.860618e+07   1.812198e+07   1.909038e+07\n",
      "2  1.810463e+07   1.769741e+07   1.851185e+07\n",
      "3  1.760307e+07   1.725654e+07   1.794960e+07\n",
      "4  1.710152e+07   1.678973e+07   1.741330e+07\n",
      "5  1.659996e+07   1.628817e+07   1.691175e+07\n",
      "6  1.609841e+07   1.575187e+07   1.644494e+07\n",
      "7  1.559685e+07   1.518963e+07   1.600407e+07\n",
      "8  1.509529e+07   1.461109e+07   1.557949e+07\n",
      "9  1.459374e+07   1.402282e+07   1.516465e+07\n"
     ]
    }
   ],
   "source": [
    "pred = ols_basic.get_prediction(x)\n",
    "pred_summary = pred.summary_frame(alpha = 0.5)\n",
    "print(pred_summary[['mean','mean_ci_lower','mean_ci_upper']])"
   ]
  },
  {
   "cell_type": "markdown",
   "id": "444878b7-88ed-4492-878e-696d326fa991",
   "metadata": {},
   "source": [
    "## Prediction interval "
   ]
  },
  {
   "cell_type": "code",
   "execution_count": 8,
   "id": "6eae3951-9f91-40d6-b96c-3db182130a66",
   "metadata": {},
   "outputs": [
    {
     "name": "stdout",
     "output_type": "stream",
     "text": [
      "           mean  obs_ci_lower  obs_ci_upper\n",
      "0  1.910774e+07  1.798104e+07  2.023444e+07\n",
      "1  1.860618e+07  1.752084e+07  1.969153e+07\n",
      "2  1.810463e+07  1.705137e+07  1.915788e+07\n",
      "3  1.760307e+07  1.657176e+07  1.863438e+07\n",
      "4  1.710152e+07  1.608135e+07  1.812168e+07\n",
      "5  1.659996e+07  1.557980e+07  1.762012e+07\n",
      "6  1.609841e+07  1.506709e+07  1.712972e+07\n",
      "7  1.559685e+07  1.454359e+07  1.665011e+07\n",
      "8  1.509529e+07  1.400995e+07  1.618064e+07\n",
      "9  1.459374e+07  1.346703e+07  1.572044e+07\n"
     ]
    }
   ],
   "source": [
    "pred = ols_basic.get_prediction(x)\n",
    "pred_summary = pred.summary_frame(alpha = 0.5)\n",
    "print(pred_summary[['mean','obs_ci_lower','obs_ci_upper']])"
   ]
  },
  {
   "cell_type": "code",
   "execution_count": 9,
   "id": "5996c94d-0406-4d3d-b31f-23708452ccd9",
   "metadata": {},
   "outputs": [
    {
     "data": {
      "image/png": "[encoded data removed]",
      "text/plain": [
       "<Figure size 640x480 with 1 Axes>"
      ]
     },
     "metadata": {},
     "output_type": "display_data"
    }
   ],
   "source": [
    "plt.scatter(df['year'],df['sum'],color ='blue',label = 'Price')\n",
    "plt.plot(x['year'],pred_summary['mean'],color ='red', label = 'Prediction')\n",
    "plt.fill_between(x['year'], pred_summary['obs_ci_lower'], pred_summary['obs_ci_upper'],color = 'red', alpha =0.2, label = '95%')\n",
    "plt.xlabel('year')\n",
    "plt.ylabel('felling')\n",
    "plt.title('Prediction with prediction interval')\n",
    "plt.legend()\n",
    "plt.show()"
   ]
  },
  {
   "cell_type": "code",
   "execution_count": 10,
   "id": "483ce608-923f-497f-bb1e-1ee49417e829",
   "metadata": {},
   "outputs": [
    {
     "name": "stdout",
     "output_type": "stream",
     "text": [
      "              mean  mean_ci_lower  mean_ci_upper  obs_ci_lower  obs_ci_upper\n",
      "0                                                                           \n",
      "2015  1.910774e+07   1.724399e+07   2.097149e+07  1.542961e+07  2.278587e+07\n",
      "2016  1.860618e+07   1.702551e+07   2.018686e+07  1.506307e+07  2.214929e+07\n",
      "2017  1.810463e+07   1.677525e+07   1.943401e+07  1.466626e+07  2.154299e+07\n",
      "2018  1.760307e+07   1.647182e+07   1.873433e+07  1.423635e+07  2.096980e+07\n",
      "2019  1.710152e+07   1.608369e+07   1.811935e+07  1.377119e+07  2.043184e+07\n",
      "2020  1.659996e+07   1.558213e+07   1.761779e+07  1.326964e+07  1.993029e+07\n",
      "2021  1.609841e+07   1.496715e+07   1.722966e+07  1.273168e+07  1.946513e+07\n",
      "2022  1.559685e+07   1.426747e+07   1.692623e+07  1.215849e+07  1.903521e+07\n",
      "2023  1.509529e+07   1.351462e+07   1.667597e+07  1.155218e+07  1.863840e+07\n",
      "2024  1.459374e+07   1.272999e+07   1.645749e+07  1.091561e+07  1.827187e+07\n",
      "2025  1.409218e+07   1.192599e+07   1.625837e+07  1.025194e+07  1.793242e+07\n",
      "2026  1.359063e+07   1.110971e+07   1.607154e+07  9.564460e+06  1.761679e+07\n",
      "2027  1.308907e+07   1.028528e+07   1.589286e+07  8.856302e+06  1.732184e+07\n"
     ]
    }
   ],
   "source": [
    "X=sm.add_constant((pd.concat([df['year'],pd.Series([2025,2026,2027])])))\n",
    "prediction= ols_basic.get_prediction(X)\n",
    "forecast=prediction.summary_frame(alpha=0.05)\n",
    "forecast.index = X[0]\n",
    "print(forecast[['mean','mean_ci_lower','mean_ci_upper','obs_ci_lower','obs_ci_upper']])"
   ]
  },
  {
   "cell_type": "code",
   "execution_count": null,
   "id": "2e962e23-3db6-40c7-a566-4b3357f8d63b",
   "metadata": {},
   "outputs": [],
   "source": []
  }
 ],
 "metadata": {
  "kernelspec": {
   "display_name": "Python 3 (ipykernel)",
   "language": "python",
   "name": "python3"
  },
  "language_info": {
   "codemirror_mode": {
    "name": "ipython",
    "version": 3
   },
   "file_extension": ".py",
   "mimetype": "text/x-python",
   "name": "python",
   "nbconvert_exporter": "python",
   "pygments_lexer": "ipython3",
   "version": "3.13.1"
  }
 },
 "nbformat": 4,
 "nbformat_minor": 5
}
