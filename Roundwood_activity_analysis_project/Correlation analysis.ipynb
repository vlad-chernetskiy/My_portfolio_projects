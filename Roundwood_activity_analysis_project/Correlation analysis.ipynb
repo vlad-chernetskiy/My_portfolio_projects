{
 "cells": [
  {
   "cell_type": "markdown",
   "id": "7eb97050-3530-480a-be5b-aa17cfd0a641",
   "metadata": {},
   "source": [
    "# Correlation analysis "
   ]
  },
  {
   "cell_type": "code",
   "execution_count": 2,
   "id": "75511c14-1980-492e-8d56-38cac59d4c68",
   "metadata": {},
   "outputs": [],
   "source": [
    "import pandas as pd\n",
    "import numpy as np\n",
    "import matplotlib \n",
    "import matplotlib.pyplot as plt\n",
    "import seaborn as sb\n",
    "import scipy as sp\n",
    "import statsmodels\n",
    "import statsmodels.tsa.stattools as sm \n",
    "from statsmodels.graphics.tsaplots import plot_acf, plot_pacf\n",
    "from statsmodels.tsa.statespace.sarimax import SARIMAX\n",
    "from statsmodels.stats.stattools import durbin_watson"
   ]
  },
  {
   "cell_type": "code",
   "execution_count": 3,
   "id": "d94aec7e-1393-490b-a48f-4e24d3a2c24c",
   "metadata": {},
   "outputs": [
    {
     "data": {
      "text/html": [
       "<div>\n",
       "<style scoped>\n",
       "    .dataframe tbody tr th:only-of-type {\n",
       "        vertical-align: middle;\n",
       "    }\n",
       "\n",
       "    .dataframe tbody tr th {\n",
       "        vertical-align: top;\n",
       "    }\n",
       "\n",
       "    .dataframe thead th {\n",
       "        text-align: right;\n",
       "    }\n",
       "</style>\n",
       "<table border=\"1\" class=\"dataframe\">\n",
       "  <thead>\n",
       "    <tr style=\"text-align: right;\">\n",
       "      <th></th>\n",
       "      <th>wood_fuel_cost</th>\n",
       "      <th>year</th>\n",
       "      <th>industrial_rw_cost</th>\n",
       "      <th>sum</th>\n",
       "    </tr>\n",
       "  </thead>\n",
       "  <tbody>\n",
       "    <tr>\n",
       "      <th>1</th>\n",
       "      <td>488.376000</td>\n",
       "      <td>2019</td>\n",
       "      <td>1404.528000</td>\n",
       "      <td>17886600.0</td>\n",
       "    </tr>\n",
       "    <tr>\n",
       "      <th>2</th>\n",
       "      <td>450.210271</td>\n",
       "      <td>2020</td>\n",
       "      <td>1316.084700</td>\n",
       "      <td>16773000.0</td>\n",
       "    </tr>\n",
       "    <tr>\n",
       "      <th>3</th>\n",
       "      <td>568.388960</td>\n",
       "      <td>2021</td>\n",
       "      <td>2290.164254</td>\n",
       "      <td>16666900.0</td>\n",
       "    </tr>\n",
       "    <tr>\n",
       "      <th>4</th>\n",
       "      <td>814.320000</td>\n",
       "      <td>2022</td>\n",
       "      <td>2823.324000</td>\n",
       "      <td>15085100.0</td>\n",
       "    </tr>\n",
       "    <tr>\n",
       "      <th>5</th>\n",
       "      <td>911.826630</td>\n",
       "      <td>2023</td>\n",
       "      <td>2649.323396</td>\n",
       "      <td>15252100.0</td>\n",
       "    </tr>\n",
       "    <tr>\n",
       "      <th>6</th>\n",
       "      <td>906.448000</td>\n",
       "      <td>2024</td>\n",
       "      <td>2887.800112</td>\n",
       "      <td>14885800.0</td>\n",
       "    </tr>\n",
       "  </tbody>\n",
       "</table>\n",
       "</div>"
      ],
      "text/plain": [
       "   wood_fuel_cost  year  industrial_rw_cost         sum\n",
       "1      488.376000  2019         1404.528000  17886600.0\n",
       "2      450.210271  2020         1316.084700  16773000.0\n",
       "3      568.388960  2021         2290.164254  16666900.0\n",
       "4      814.320000  2022         2823.324000  15085100.0\n",
       "5      911.826630  2023         2649.323396  15252100.0\n",
       "6      906.448000  2024         2887.800112  14885800.0"
      ]
     },
     "execution_count": 3,
     "metadata": {},
     "output_type": "execute_result"
    }
   ],
   "source": [
    "df1=pd.DataFrame(pd.read_csv ('C:/Users/borsh/OneDrive/Рабочий стол/BI/projects/ForestlyActivitiesProject/project data/data-1760379126636.csv'))\n",
    "df2=pd.DataFrame(pd.read_csv ('C:/Users/borsh/OneDrive/Рабочий стол/BI/projects/ForestlyActivitiesProject/scripts/data-1759582857171.csv'))\n",
    "df2\n",
    "df2_=df2.drop([0,1,2])\n",
    "df2_\n",
    "df = df1.merge(df2_, on='year', how='outer')\n",
    "df = df.sort_values('year')\n",
    "df_=df.drop(0)# 2018 has extremely low value, that get a bad correlation\n",
    "df_"
   ]
  },
  {
   "cell_type": "code",
   "execution_count": 11,
   "id": "0e387b14-7760-4aea-873e-c83e79afaf73",
   "metadata": {},
   "outputs": [
    {
     "data": {
      "text/html": [
       "<div>\n",
       "<style scoped>\n",
       "    .dataframe tbody tr th:only-of-type {\n",
       "        vertical-align: middle;\n",
       "    }\n",
       "\n",
       "    .dataframe tbody tr th {\n",
       "        vertical-align: top;\n",
       "    }\n",
       "\n",
       "    .dataframe thead th {\n",
       "        text-align: right;\n",
       "    }\n",
       "</style>\n",
       "<table border=\"1\" class=\"dataframe\">\n",
       "  <thead>\n",
       "    <tr style=\"text-align: right;\">\n",
       "      <th></th>\n",
       "      <th>wood_fuel_cost</th>\n",
       "      <th>year</th>\n",
       "      <th>industrial_rw_cost</th>\n",
       "      <th>sum</th>\n",
       "    </tr>\n",
       "  </thead>\n",
       "  <tbody>\n",
       "    <tr>\n",
       "      <th>wood_fuel_cost</th>\n",
       "      <td>1.000000</td>\n",
       "      <td>0.938781</td>\n",
       "      <td>0.921223</td>\n",
       "      <td>-0.919181</td>\n",
       "    </tr>\n",
       "    <tr>\n",
       "      <th>year</th>\n",
       "      <td>0.938781</td>\n",
       "      <td>1.000000</td>\n",
       "      <td>0.906763</td>\n",
       "      <td>-0.942746</td>\n",
       "    </tr>\n",
       "    <tr>\n",
       "      <th>industrial_rw_cost</th>\n",
       "      <td>0.921223</td>\n",
       "      <td>0.906763</td>\n",
       "      <td>1.000000</td>\n",
       "      <td>-0.902704</td>\n",
       "    </tr>\n",
       "    <tr>\n",
       "      <th>sum</th>\n",
       "      <td>-0.919181</td>\n",
       "      <td>-0.942746</td>\n",
       "      <td>-0.902704</td>\n",
       "      <td>1.000000</td>\n",
       "    </tr>\n",
       "  </tbody>\n",
       "</table>\n",
       "</div>"
      ],
      "text/plain": [
       "                    wood_fuel_cost      year  industrial_rw_cost       sum\n",
       "wood_fuel_cost            1.000000  0.938781            0.921223 -0.919181\n",
       "year                      0.938781  1.000000            0.906763 -0.942746\n",
       "industrial_rw_cost        0.921223  0.906763            1.000000 -0.902704\n",
       "sum                      -0.919181 -0.942746           -0.902704  1.000000"
      ]
     },
     "execution_count": 11,
     "metadata": {},
     "output_type": "execute_result"
    }
   ],
   "source": [
    "df_.corr()"
   ]
  },
  {
   "cell_type": "code",
   "execution_count": 14,
   "id": "a913a79c-c326-4fd1-8e68-cf63ac8ff29c",
   "metadata": {},
   "outputs": [
    {
     "data": {
      "image/png": "[encoded data removed]",
      "text/plain": [
       "<Figure size 640x480 with 2 Axes>"
      ]
     },
     "metadata": {},
     "output_type": "display_data"
    }
   ],
   "source": [
    "correlation_matrix = df_.corr()\n",
    "sb.heatmap(correlation_matrix, annot=True)\n",
    "plt.show()"
   ]
  },
  {
   "cell_type": "markdown",
   "id": "a0a594c8-bebc-4e4f-a36d-68183da26413",
   "metadata": {},
   "source": [
    "We can see high correlation between all the parametrs"
   ]
  },
  {
   "cell_type": "markdown",
   "id": "79f16c92-3cfc-4aeb-a10a-0a18e043e3a5",
   "metadata": {},
   "source": [
    "Creating a model based on dependence between felling and prices. Number of felled forest so much correlating with time, wood fuel and industrial rounwood."
   ]
  }
 ],
 "metadata": {
  "kernelspec": {
   "display_name": "Python 3 (ipykernel)",
   "language": "python",
   "name": "python3"
  },
  "language_info": {
   "codemirror_mode": {
    "name": "ipython",
    "version": 3
   },
   "file_extension": ".py",
   "mimetype": "text/x-python",
   "name": "python",
   "nbconvert_exporter": "python",
   "pygments_lexer": "ipython3",
   "version": "3.13.1"
  }
 },
 "nbformat": 4,
 "nbformat_minor": 5
}
