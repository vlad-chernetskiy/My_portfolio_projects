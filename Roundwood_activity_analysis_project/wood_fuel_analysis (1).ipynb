{
 "cells": [
  {
   "cell_type": "code",
   "execution_count": 2,
   "id": "26104e0e-5123-4d75-a3e5-de898eab5454",
   "metadata": {},
   "outputs": [],
   "source": [
    "import pandas as pd\n",
    "import numpy as np\n",
    "import matplotlib \n",
    "import matplotlib.pyplot as plt\n",
    "import seaborn as sb\n",
    "import scipy as sp\n",
    "import statsmodels.api as sm\n",
    "#import our data for correlatin analys in python with dataframe"
   ]
  },
  {
   "cell_type": "code",
   "execution_count": 3,
   "id": "67be9336-4370-4e84-aa8a-6c1381a019b4",
   "metadata": {},
   "outputs": [
    {
     "data": {
      "text/html": [
       "<div>\n",
       "<style scoped>\n",
       "    .dataframe tbody tr th:only-of-type {\n",
       "        vertical-align: middle;\n",
       "    }\n",
       "\n",
       "    .dataframe tbody tr th {\n",
       "        vertical-align: top;\n",
       "    }\n",
       "\n",
       "    .dataframe thead th {\n",
       "        text-align: right;\n",
       "    }\n",
       "</style>\n",
       "<table border=\"1\" class=\"dataframe\">\n",
       "  <thead>\n",
       "    <tr style=\"text-align: right;\">\n",
       "      <th></th>\n",
       "      <th>wood_fuel_cost</th>\n",
       "      <th>year</th>\n",
       "      <th>industrial_rw_cost</th>\n",
       "    </tr>\n",
       "  </thead>\n",
       "  <tbody>\n",
       "    <tr>\n",
       "      <th>0</th>\n",
       "      <td>478.616000</td>\n",
       "      <td>2018</td>\n",
       "      <td>1390.204000</td>\n",
       "    </tr>\n",
       "    <tr>\n",
       "      <th>1</th>\n",
       "      <td>488.376000</td>\n",
       "      <td>2019</td>\n",
       "      <td>1404.528000</td>\n",
       "    </tr>\n",
       "    <tr>\n",
       "      <th>2</th>\n",
       "      <td>450.210271</td>\n",
       "      <td>2020</td>\n",
       "      <td>1316.084700</td>\n",
       "    </tr>\n",
       "    <tr>\n",
       "      <th>3</th>\n",
       "      <td>568.388960</td>\n",
       "      <td>2021</td>\n",
       "      <td>2290.164254</td>\n",
       "    </tr>\n",
       "    <tr>\n",
       "      <th>4</th>\n",
       "      <td>814.320000</td>\n",
       "      <td>2022</td>\n",
       "      <td>2823.324000</td>\n",
       "    </tr>\n",
       "    <tr>\n",
       "      <th>5</th>\n",
       "      <td>911.826630</td>\n",
       "      <td>2023</td>\n",
       "      <td>2649.323396</td>\n",
       "    </tr>\n",
       "    <tr>\n",
       "      <th>6</th>\n",
       "      <td>906.448000</td>\n",
       "      <td>2024</td>\n",
       "      <td>2887.800112</td>\n",
       "    </tr>\n",
       "  </tbody>\n",
       "</table>\n",
       "</div>"
      ],
      "text/plain": [
       "   wood_fuel_cost  year  industrial_rw_cost\n",
       "0      478.616000  2018         1390.204000\n",
       "1      488.376000  2019         1404.528000\n",
       "2      450.210271  2020         1316.084700\n",
       "3      568.388960  2021         2290.164254\n",
       "4      814.320000  2022         2823.324000\n",
       "5      911.826630  2023         2649.323396\n",
       "6      906.448000  2024         2887.800112"
      ]
     },
     "execution_count": 3,
     "metadata": {},
     "output_type": "execute_result"
    }
   ],
   "source": [
    "df=pd.DataFrame(pd.read_csv ('C:/Users/borsh/OneDrive/Рабочий стол/BI/projects/ForestlyActivitiesProject/project data/data-1760379126636.csv'))\n",
    "df.head(10)    "
   ]
  },
  {
   "cell_type": "code",
   "execution_count": 4,
   "id": "afce382f-89d9-48d6-9cdc-adf4417d3107",
   "metadata": {},
   "outputs": [
    {
     "data": {
      "image/png": "[encoded data removed]",
      "text/plain": [
       "<Figure size 640x480 with 1 Axes>"
      ]
     },
     "metadata": {},
     "output_type": "display_data"
    }
   ],
   "source": [
    "#show the plot to look at the data \n",
    "plt.scatter(x=df['year'],y=df['wood_fuel_cost'])\n",
    "plt.title('Wood fuel')\n",
    "plt.xlabel('year')\n",
    "plt.ylabel('Price')\n",
    "plt.show()\n"
   ]
  },
  {
   "cell_type": "code",
   "execution_count": 5,
   "id": "4d8a42bb-5bfa-4f05-9e6a-ebd9886462a1",
   "metadata": {},
   "outputs": [
    {
     "data": {
      "text/html": [
       "<div>\n",
       "<style scoped>\n",
       "    .dataframe tbody tr th:only-of-type {\n",
       "        vertical-align: middle;\n",
       "    }\n",
       "\n",
       "    .dataframe tbody tr th {\n",
       "        vertical-align: top;\n",
       "    }\n",
       "\n",
       "    .dataframe thead th {\n",
       "        text-align: right;\n",
       "    }\n",
       "</style>\n",
       "<table border=\"1\" class=\"dataframe\">\n",
       "  <thead>\n",
       "    <tr style=\"text-align: right;\">\n",
       "      <th></th>\n",
       "      <th>wood_fuel_cost</th>\n",
       "      <th>year</th>\n",
       "      <th>industrial_rw_cost</th>\n",
       "    </tr>\n",
       "  </thead>\n",
       "  <tbody>\n",
       "    <tr>\n",
       "      <th>wood_fuel_cost</th>\n",
       "      <td>1.000000</td>\n",
       "      <td>0.919716</td>\n",
       "      <td>0.932493</td>\n",
       "    </tr>\n",
       "    <tr>\n",
       "      <th>year</th>\n",
       "      <td>0.919716</td>\n",
       "      <td>1.000000</td>\n",
       "      <td>0.913707</td>\n",
       "    </tr>\n",
       "    <tr>\n",
       "      <th>industrial_rw_cost</th>\n",
       "      <td>0.932493</td>\n",
       "      <td>0.913707</td>\n",
       "      <td>1.000000</td>\n",
       "    </tr>\n",
       "  </tbody>\n",
       "</table>\n",
       "</div>"
      ],
      "text/plain": [
       "                    wood_fuel_cost      year  industrial_rw_cost\n",
       "wood_fuel_cost            1.000000  0.919716            0.932493\n",
       "year                      0.919716  1.000000            0.913707\n",
       "industrial_rw_cost        0.932493  0.913707            1.000000"
      ]
     },
     "execution_count": 5,
     "metadata": {},
     "output_type": "execute_result"
    }
   ],
   "source": [
    "#let's look at correlation \n",
    "df.corr()"
   ]
  },
  {
   "cell_type": "markdown",
   "id": "92812410-bb48-4d82-ae2e-c0c950014454",
   "metadata": {},
   "source": [
    "We can see high correaltion of wood fuel price by the time "
   ]
  },
  {
   "cell_type": "markdown",
   "id": "8f700ec9-95c4-4748-b130-8a66616fc419",
   "metadata": {},
   "source": [
    "## Building regression model "
   ]
  },
  {
   "cell_type": "code",
   "execution_count": 6,
   "id": "8931a986-31f2-493c-a34f-f0f5015c71ae",
   "metadata": {},
   "outputs": [
    {
     "name": "stdout",
     "output_type": "stream",
     "text": [
      "                            OLS Regression Results                            \n",
      "==============================================================================\n",
      "Dep. Variable:         wood_fuel_cost   R-squared:                       0.846\n",
      "Model:                            OLS   Adj. R-squared:                  0.815\n",
      "Method:                 Least Squares   F-statistic:                     27.44\n",
      "Date:                Thu, 30 Oct 2025   Prob (F-statistic):            0.00336\n",
      "Time:                        16:36:00   Log-Likelihood:                -40.253\n",
      "No. Observations:                   7   AIC:                             84.51\n",
      "Df Residuals:                       5   BIC:                             84.40\n",
      "Df Model:                           1                                         \n",
      "Covariance Type:            nonrobust                                         \n",
      "==============================================================================\n",
      "                 coef    std err          t      P>|t|      [0.025      0.975]\n",
      "------------------------------------------------------------------------------\n",
      "const      -1.794e+05   3.44e+04     -5.219      0.003   -2.68e+05    -9.1e+04\n",
      "year          89.0895     17.007      5.238      0.003      45.372     132.807\n",
      "==============================================================================\n",
      "Omnibus:                          nan   Durbin-Watson:                   1.406\n",
      "Prob(Omnibus):                    nan   Jarque-Bera (JB):                0.717\n",
      "Skew:                          -0.388   Prob(JB):                        0.699\n",
      "Kurtosis:                       1.637   Cond. No.                     2.04e+06\n",
      "==============================================================================\n",
      "\n",
      "Notes:\n",
      "[1] Standard Errors assume that the covariance matrix of the errors is correctly specified.\n",
      "[2] The condition number is large, 2.04e+06. This might indicate that there are\n",
      "strong multicollinearity or other numerical problems.\n"
     ]
    },
    {
     "name": "stderr",
     "output_type": "stream",
     "text": [
      "C:\\Users\\borsh\\PycharmProjects\\PythonProject\\.venv\\Lib\\site-packages\\statsmodels\\stats\\stattools.py:74: ValueWarning: omni_normtest is not valid with less than 8 observations; 7 samples were given.\n",
      "  warn(\"omni_normtest is not valid with less than 8 observations; %i \"\n"
     ]
    }
   ],
   "source": [
    "\n",
    "x=sm.add_constant(df['year'])\n",
    "y=df['wood_fuel_cost']\n",
    "ols_basic= sm.OLS(y,x).fit()\n",
    "print(ols_basic.summary())"
   ]
  },
  {
   "cell_type": "markdown",
   "id": "1133d6cc-1b27-4c0d-8277-2769c77e5118",
   "metadata": {},
   "source": [
    "Now we can see  that p-value smaller that 0.05 that mean that hypothese is could be refuted and relation is exist "
   ]
  },
  {
   "cell_type": "code",
   "execution_count": 10,
   "id": "fc778a81-61ed-44d3-aaa9-9a8625d51d5c",
   "metadata": {},
   "outputs": [
    {
     "name": "stdout",
     "output_type": "stream",
     "text": [
      "89.08953529930038 -179390.21000266212\n"
     ]
    }
   ],
   "source": [
    "#Now let's derive the regression formula with numpy\n",
    "reg=np.polyfit(df['year'],df['wood_fuel_cost'],deg=1)\n",
    "reg\n",
    "b1=reg[0]\n",
    "b0=reg[1]\n",
    "print(b1,b0)"
   ]
  },
  {
   "cell_type": "markdown",
   "id": "e92a7504-ddb7-48c0-b8ed-fe0420ea3ea2",
   "metadata": {},
   "source": [
    "that's means that your regression representating by the equation= b1*['year']+ b0"
   ]
  },
  {
   "cell_type": "markdown",
   "id": "bef607f8-91ca-4971-81ee-1469afe0c3b1",
   "metadata": {},
   "source": [
    "## Confidence interval "
   ]
  },
  {
   "cell_type": "code",
   "execution_count": 11,
   "id": "d2c01f44-54e0-43a0-a434-63ae0d21b141",
   "metadata": {},
   "outputs": [
    {
     "name": "stdout",
     "output_type": "stream",
     "text": [
      "         mean  mean_ci_lower  mean_ci_upper\n",
      "0  392.472231     347.912665     437.031797\n",
      "1  481.561767     446.606367     516.517166\n",
      "2  570.651302     543.016632     598.285972\n",
      "3  659.740837     635.023637     684.458037\n",
      "4  748.830373     721.195703     776.465042\n",
      "5  837.919908     802.964508     872.875307\n",
      "6  927.009443     882.449877     971.569009\n"
     ]
    }
   ],
   "source": [
    "pred = ols_basic.get_prediction(x)\n",
    "pred_summary = pred.summary_frame(alpha = 0.5)\n",
    "print(pred_summary[['mean','mean_ci_lower','mean_ci_upper']])"
   ]
  },
  {
   "cell_type": "markdown",
   "id": "be21db62-365c-40f8-a362-43fdcd2e5bb7",
   "metadata": {},
   "source": [
    "We get the interval where accurate value is located, its get more accurancy for our analysis  "
   ]
  },
  {
   "cell_type": "markdown",
   "id": "e3c2afc7-e3e7-486e-aecc-f6e2d0f2ad77",
   "metadata": {},
   "source": [
    "## Prediction interval "
   ]
  },
  {
   "cell_type": "code",
   "execution_count": 12,
   "id": "f55c3d55-a061-4db1-900f-9633122147bc",
   "metadata": {},
   "outputs": [
    {
     "name": "stdout",
     "output_type": "stream",
     "text": [
      "         mean  mean_ci_lower  mean_ci_upper\n",
      "0  392.472231     347.912665     437.031797\n",
      "1  481.561767     446.606367     516.517166\n",
      "2  570.651302     543.016632     598.285972\n",
      "3  659.740837     635.023637     684.458037\n",
      "4  748.830373     721.195703     776.465042\n",
      "5  837.919908     802.964508     872.875307\n",
      "6  927.009443     882.449877     971.569009\n"
     ]
    }
   ],
   "source": [
    "pred = ols_basic.get_prediction(x)\n",
    "pred_summary = pred.summary_frame(alpha = 0.5)\n",
    "print(pred_summary[['mean','mean_ci_lower','mean_ci_upper']])"
   ]
  },
  {
   "cell_type": "code",
   "execution_count": 13,
   "id": "9bbe6691-ea82-46f7-a3f1-b5490caaf9f6",
   "metadata": {},
   "outputs": [
    {
     "data": {
      "image/png": "[encoded data removed]",
      "text/plain": [
       "<Figure size 640x480 with 1 Axes>"
      ]
     },
     "metadata": {},
     "output_type": "display_data"
    }
   ],
   "source": [
    "plt.scatter(df['year'],df['wood_fuel_cost'],color ='blue',label = 'Price')\n",
    "plt.plot(x['year'],pred_summary['mean'],color ='red', label = 'Prediction')\n",
    "plt.fill_between(x['year'], pred_summary['obs_ci_lower'], pred_summary['obs_ci_upper'],color = 'red', alpha =0.2, label = '95%')\n",
    "plt.xlabel('year')\n",
    "plt.ylabel('wf price')\n",
    "plt.title('Prediction with prediction interval')\n",
    "plt.legend()\n",
    "plt.show()"
   ]
  },
  {
   "cell_type": "markdown",
   "id": "1c5a7a38-0407-4e3a-8594-25aa6d6dbea7",
   "metadata": {},
   "source": [
    "## Get prediction for the next 3 years "
   ]
  },
  {
   "cell_type": "code",
   "execution_count": 23,
   "id": "dae9c929-0b9f-49b7-b4c2-4cac2fb52b9d",
   "metadata": {
    "scrolled": true
   },
   "outputs": [
    {
     "name": "stdout",
     "output_type": "stream",
     "text": [
      "             mean  mean_ci_lower  mean_ci_upper  obs_ci_lower  obs_ci_upper\n",
      "0                                                                          \n",
      "2018   392.472231     234.847235     550.097228    112.544876    672.399587\n",
      "2019   481.561767     357.910546     605.212987    219.257917    743.865616\n",
      "2020   570.651302     472.896429     668.406175    319.514486    821.788118\n",
      "2021   659.740837     572.306221     747.175454    412.438397    907.043278\n",
      "2022   748.830373     651.075500     846.585245    497.693557    999.967188\n",
      "2023   837.919908     714.268687     961.571128    575.616059   1100.223757\n",
      "2024   927.009443     769.384447    1084.634439    647.082087   1206.936799\n",
      "2025  1016.098978     820.589233    1211.608724    713.216582   1318.981374\n",
      "2026  1105.188514     869.763604    1340.613423    775.130075   1435.246953\n",
      "2027  1194.278049     917.785515    1470.770583    833.775890   1554.780208\n"
     ]
    }
   ],
   "source": [
    "X=sm.add_constant((pd.concat([df['year'],pd.Series([2025,2026,2027])])))\n",
    "prediction= ols_basic.get_prediction(X)\n",
    "forecast=prediction.summary_frame(alpha=0.05)\n",
    "forecast.index = X[0]\n",
    "print(forecast[['mean','mean_ci_lower','mean_ci_upper','obs_ci_lower','obs_ci_upper']])"
   ]
  },
  {
   "cell_type": "code",
   "execution_count": null,
   "id": "8d94c401-c61c-40d7-b94e-93d1617273d3",
   "metadata": {},
   "outputs": [],
   "source": []
  }
 ],
 "metadata": {
  "kernelspec": {
   "display_name": "Python 3 (ipykernel)",
   "language": "python",
   "name": "python3"
  },
  "language_info": {
   "codemirror_mode": {
    "name": "ipython",
    "version": 3
   },
   "file_extension": ".py",
   "mimetype": "text/x-python",
   "name": "python",
   "nbconvert_exporter": "python",
   "pygments_lexer": "ipython3",
   "version": "3.13.1"
  }
 },
 "nbformat": 4,
 "nbformat_minor": 5
}
