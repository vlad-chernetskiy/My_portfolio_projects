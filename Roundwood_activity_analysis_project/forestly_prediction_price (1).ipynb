{
 "cells": [
  {
   "cell_type": "code",
   "execution_count": 2,
   "id": "aa8c2102-fe0e-41db-8878-c1972a19e38d",
   "metadata": {},
   "outputs": [],
   "source": [
    "import pandas as pd\n",
    "import numpy as np\n",
    "import matplotlib \n",
    "import matplotlib.pyplot as plt\n",
    "import seaborn as sb\n",
    "import scipy as sp\n",
    "import statsmodels.api as sm\n",
    "#import our data for correlatin analys in python with dataframe"
   ]
  },
  {
   "cell_type": "code",
   "execution_count": 3,
   "id": "38b30c80-c6bc-41e6-83bc-0c785e63b173",
   "metadata": {},
   "outputs": [
    {
     "data": {
      "text/html": [
       "<div>\n",
       "<style scoped>\n",
       "    .dataframe tbody tr th:only-of-type {\n",
       "        vertical-align: middle;\n",
       "    }\n",
       "\n",
       "    .dataframe tbody tr th {\n",
       "        vertical-align: top;\n",
       "    }\n",
       "\n",
       "    .dataframe thead th {\n",
       "        text-align: right;\n",
       "    }\n",
       "</style>\n",
       "<table border=\"1\" class=\"dataframe\">\n",
       "  <thead>\n",
       "    <tr style=\"text-align: right;\">\n",
       "      <th></th>\n",
       "      <th>wood_fuel_cost</th>\n",
       "      <th>year</th>\n",
       "      <th>industrial_rw_cost</th>\n",
       "    </tr>\n",
       "  </thead>\n",
       "  <tbody>\n",
       "    <tr>\n",
       "      <th>0</th>\n",
       "      <td>478.616000</td>\n",
       "      <td>2018</td>\n",
       "      <td>1390.204000</td>\n",
       "    </tr>\n",
       "    <tr>\n",
       "      <th>1</th>\n",
       "      <td>488.376000</td>\n",
       "      <td>2019</td>\n",
       "      <td>1404.528000</td>\n",
       "    </tr>\n",
       "    <tr>\n",
       "      <th>2</th>\n",
       "      <td>450.210271</td>\n",
       "      <td>2020</td>\n",
       "      <td>1316.084700</td>\n",
       "    </tr>\n",
       "    <tr>\n",
       "      <th>3</th>\n",
       "      <td>568.388960</td>\n",
       "      <td>2021</td>\n",
       "      <td>2290.164254</td>\n",
       "    </tr>\n",
       "    <tr>\n",
       "      <th>4</th>\n",
       "      <td>814.320000</td>\n",
       "      <td>2022</td>\n",
       "      <td>2823.324000</td>\n",
       "    </tr>\n",
       "    <tr>\n",
       "      <th>5</th>\n",
       "      <td>911.826630</td>\n",
       "      <td>2023</td>\n",
       "      <td>2649.323396</td>\n",
       "    </tr>\n",
       "    <tr>\n",
       "      <th>6</th>\n",
       "      <td>906.448000</td>\n",
       "      <td>2024</td>\n",
       "      <td>2887.800112</td>\n",
       "    </tr>\n",
       "  </tbody>\n",
       "</table>\n",
       "</div>"
      ],
      "text/plain": [
       "   wood_fuel_cost  year  industrial_rw_cost\n",
       "0      478.616000  2018         1390.204000\n",
       "1      488.376000  2019         1404.528000\n",
       "2      450.210271  2020         1316.084700\n",
       "3      568.388960  2021         2290.164254\n",
       "4      814.320000  2022         2823.324000\n",
       "5      911.826630  2023         2649.323396\n",
       "6      906.448000  2024         2887.800112"
      ]
     },
     "execution_count": 3,
     "metadata": {},
     "output_type": "execute_result"
    }
   ],
   "source": [
    "df=pd.DataFrame(pd.read_csv ('C:/Users/borsh/OneDrive/Рабочий стол/BI/projects/ForestlyActivitiesProject/project data/data-1760379126636.csv'))\n",
    "df.head(10)    "
   ]
  },
  {
   "cell_type": "code",
   "execution_count": 4,
   "id": "90f2af03-ea7e-4ba7-bfd7-1f81d4fe6f2d",
   "metadata": {},
   "outputs": [
    {
     "data": {
      "image/png": "[encoded data removed]",
      "text/plain": [
       "<Figure size 640x480 with 1 Axes>"
      ]
     },
     "metadata": {},
     "output_type": "display_data"
    }
   ],
   "source": [
    "#show the plot to look at the data \n",
    "plt.scatter(x=df['year'],y=df['industrial_rw_cost'])\n",
    "plt.title('Industrial roundwood')\n",
    "plt.xlabel('year')\n",
    "plt.ylabel('Price')\n",
    "plt.show()\n"
   ]
  },
  {
   "cell_type": "code",
   "execution_count": 5,
   "id": "2e93cdef-9c17-4ec2-b18d-093d106b49ea",
   "metadata": {},
   "outputs": [
    {
     "data": {
      "text/html": [
       "<div>\n",
       "<style scoped>\n",
       "    .dataframe tbody tr th:only-of-type {\n",
       "        vertical-align: middle;\n",
       "    }\n",
       "\n",
       "    .dataframe tbody tr th {\n",
       "        vertical-align: top;\n",
       "    }\n",
       "\n",
       "    .dataframe thead th {\n",
       "        text-align: right;\n",
       "    }\n",
       "</style>\n",
       "<table border=\"1\" class=\"dataframe\">\n",
       "  <thead>\n",
       "    <tr style=\"text-align: right;\">\n",
       "      <th></th>\n",
       "      <th>wood_fuel_cost</th>\n",
       "      <th>year</th>\n",
       "      <th>industrial_rw_cost</th>\n",
       "    </tr>\n",
       "  </thead>\n",
       "  <tbody>\n",
       "    <tr>\n",
       "      <th>wood_fuel_cost</th>\n",
       "      <td>1.000000</td>\n",
       "      <td>0.919716</td>\n",
       "      <td>0.932493</td>\n",
       "    </tr>\n",
       "    <tr>\n",
       "      <th>year</th>\n",
       "      <td>0.919716</td>\n",
       "      <td>1.000000</td>\n",
       "      <td>0.913707</td>\n",
       "    </tr>\n",
       "    <tr>\n",
       "      <th>industrial_rw_cost</th>\n",
       "      <td>0.932493</td>\n",
       "      <td>0.913707</td>\n",
       "      <td>1.000000</td>\n",
       "    </tr>\n",
       "  </tbody>\n",
       "</table>\n",
       "</div>"
      ],
      "text/plain": [
       "                    wood_fuel_cost      year  industrial_rw_cost\n",
       "wood_fuel_cost            1.000000  0.919716            0.932493\n",
       "year                      0.919716  1.000000            0.913707\n",
       "industrial_rw_cost        0.932493  0.913707            1.000000"
      ]
     },
     "execution_count": 5,
     "metadata": {},
     "output_type": "execute_result"
    }
   ],
   "source": [
    "#let's look at correlation \n",
    "df.corr()"
   ]
  },
  {
   "cell_type": "markdown",
   "id": "ee6cac60-4db7-4e67-966b-f5e3cc603378",
   "metadata": {},
   "source": [
    "### Create a regression"
   ]
  },
  {
   "cell_type": "code",
   "execution_count": 6,
   "id": "902decdb-d163-4312-9d9f-bb887ee9caa2",
   "metadata": {},
   "outputs": [
    {
     "name": "stdout",
     "output_type": "stream",
     "text": [
      "                            OLS Regression Results                            \n",
      "==============================================================================\n",
      "Dep. Variable:     industrial_rw_cost   R-squared:                       0.835\n",
      "Model:                            OLS   Adj. R-squared:                  0.802\n",
      "Method:                 Least Squares   F-statistic:                     25.28\n",
      "Date:                Thu, 30 Oct 2025   Prob (F-statistic):            0.00401\n",
      "Time:                        17:38:21   Log-Likelihood:                -49.114\n",
      "No. Observations:                   7   AIC:                             102.2\n",
      "Df Residuals:                       5   BIC:                             102.1\n",
      "Df Model:                           1                                         \n",
      "Covariance Type:            nonrobust                                         \n",
      "==============================================================================\n",
      "                 coef    std err          t      P>|t|      [0.025      0.975]\n",
      "------------------------------------------------------------------------------\n",
      "const      -6.107e+05   1.22e+05     -5.010      0.004   -9.24e+05   -2.97e+05\n",
      "year         303.2007     60.307      5.028      0.004     148.178     458.224\n",
      "==============================================================================\n",
      "Omnibus:                          nan   Durbin-Watson:                   1.908\n",
      "Prob(Omnibus):                    nan   Jarque-Bera (JB):                0.196\n",
      "Skew:                          -0.278   Prob(JB):                        0.907\n",
      "Kurtosis:                       2.399   Cond. No.                     2.04e+06\n",
      "==============================================================================\n",
      "\n",
      "Notes:\n",
      "[1] Standard Errors assume that the covariance matrix of the errors is correctly specified.\n",
      "[2] The condition number is large, 2.04e+06. This might indicate that there are\n",
      "strong multicollinearity or other numerical problems.\n"
     ]
    },
    {
     "name": "stderr",
     "output_type": "stream",
     "text": [
      
     ]
    }
   ],
   "source": [
    "x=sm.add_constant(df['year'])\n",
    "y=df['industrial_rw_cost']\n",
    "ols_basic= sm.OLS(y,x).fit()\n",
    "print(ols_basic.summary())"
   ]
  },
  {
   "cell_type": "code",
   "execution_count": 7,
   "id": "a2ea4c2c-041e-4317-a3dd-40618f9dd3c7",
   "metadata": {},
   "outputs": [
    {
     "name": "stdout",
     "output_type": "stream",
     "text": [
      "303.2006581789005 -610659.7546850946\n"
     ]
    }
   ],
   "source": [
    "#Now let's derive the regression formula with numpy\n",
    "reg=np.polyfit(df['year'],df['industrial_rw_cost'],deg=1)\n",
    "reg\n",
    "b1=reg[0]\n",
    "b0=reg[1]\n",
    "print(b1,b0)\n",
    "#that's means that your regression representating by the equation= b1*['year']+ b0"
   ]
  },
  {
   "cell_type": "markdown",
   "id": "d506c621-2153-47bb-af13-b9e5c026121a",
   "metadata": {},
   "source": [
    "### Сreate a confidence interval for our regression model "
   ]
  },
  {
   "cell_type": "code",
   "execution_count": 8,
   "id": "151d2f75-74b7-4f04-a5d9-b0c1e3dfe74d",
   "metadata": {},
   "outputs": [
    {
     "name": "stdout",
     "output_type": "stream",
     "text": [
      "          mean  mean_ci_lower  mean_ci_upper\n",
      "0  1199.173520    1041.163931    1357.183109\n",
      "1  1502.374178    1378.421258    1626.327098\n",
      "2  1805.574836    1707.581449    1903.568224\n",
      "3  2108.775494    2021.127544    2196.423445\n",
      "4  2411.976153    2313.982765    2509.969540\n",
      "5  2715.176811    2591.223891    2839.129731\n",
      "6  3018.377469    2860.367880    3176.387058\n"
     ]
    }
   ],
   "source": [
    "pred = ols_basic.get_prediction(x)\n",
    "pred_summary = pred.summary_frame(alpha = 0.5)\n",
    "print(pred_summary[['mean','mean_ci_lower','mean_ci_upper']])"
   ]
  },
  {
   "cell_type": "markdown",
   "id": "63011d0c-1dc4-4691-98cc-56c2d23f5923",
   "metadata": {},
   "source": [
    "### Create a prediction interval "
   ]
  },
  {
   "cell_type": "code",
   "execution_count": 9,
   "id": "1f0b3edc-6c0e-4f09-bceb-6cc5d7f4be38",
   "metadata": {},
   "outputs": [
    {
     "name": "stdout",
     "output_type": "stream",
     "text": [
      "          mean  obs_ci_lower  obs_ci_upper\n",
      "0  1199.173520    918.563163   1479.783877\n",
      "1  1502.374178   1239.430327   1765.318029\n",
      "2  1805.574836   1553.825266   2057.324407\n",
      "3  2108.775494   1860.869655   2356.681334\n",
      "4  2411.976153   2160.226582   2663.725723\n",
      "5  2715.176811   2452.232960   2978.120662\n",
      "6  3018.377469   2737.767112   3298.987826\n"
     ]
    }
   ],
   "source": [
    "pred = ols_basic.get_prediction(x)\n",
    "pred_summary = pred.summary_frame(alpha = 0.5)\n",
    "print(pred_summary[['mean','obs_ci_lower','obs_ci_upper']])"
   ]
  },
  {
   "cell_type": "code",
   "execution_count": 10,
   "id": "a1914c76-c6ec-4a27-b4ed-92c7875d4f1a",
   "metadata": {},
   "outputs": [
    {
     "data": {
      "image/png": "[encoded data removed]",
      "text/plain": [
       "<Figure size 640x480 with 1 Axes>"
      ]
     },
     "metadata": {},
     "output_type": "display_data"
    }
   ],
   "source": [
    "plt.scatter(df['year'],df['industrial_rw_cost'],color ='blue',label = 'Price')\n",
    "plt.plot(df['year'],pred_summary['mean'],color ='red', label = 'Prediction')\n",
    "plt.fill_between(df['year'], pred_summary['obs_ci_lower'], pred_summary['obs_ci_upper'],color = 'red', alpha =0.2, label = '95%')\n",
    "plt.xlabel('felling')\n",
    "plt.ylabel('price')\n",
    "plt.title('Prediction with prediction interval')\n",
    "plt.legend()\n",
    "plt.show()"
   ]
  },
  {
   "cell_type": "markdown",
   "id": "0cfd720f-8565-4af6-98cc-126c5cb79737",
   "metadata": {},
   "source": [
    "### Get some prediction"
   ]
  },
  {
   "cell_type": "code",
   "execution_count": 11,
   "id": "e8e59055-4840-48b4-8723-6c9bdb5e82f1",
   "metadata": {},
   "outputs": [
    {
     "name": "stdout",
     "output_type": "stream",
     "text": [
      "             mean  mean_ci_lower  mean_ci_upper  obs_ci_lower  obs_ci_upper\n",
      "0                                                                          \n",
      "2018  1199.173520     640.230443    1758.116597    206.542522   2191.804518\n",
      "2019  1502.374178    1063.903154    1940.845202    572.236675   2432.511681\n",
      "2020  1805.574836    1458.933055    2152.216617    915.035977   2696.113696\n",
      "2021  2108.775494    1798.729660    2418.821329   1231.833447   2985.717542\n",
      "2022  2411.976153    2065.334372    2758.617934   1521.437293   3302.515012\n",
      "2023  2715.176811    2276.705787    3153.647835   1785.039308   3645.314314\n",
      "2024  3018.377469    2459.434392    3577.320546   2025.746471   4011.008467\n",
      "2025  3321.578127    2628.294565    4014.861689   2247.547852   4395.608403\n",
      "2026  3624.778785    2789.954827    4459.602743   2454.381427   4795.176144\n",
      "2027  3927.979444    2947.528428    4908.430459   2649.627720   5206.331167\n"
     ]
    }
   ],
   "source": [
    "X=sm.add_constant((pd.concat([df['year'],pd.Series([2025,2026,2027])])))\n",
    "prediction= ols_basic.get_prediction(X)\n",
    "forecast=prediction.summary_frame(alpha=0.05)\n",
    "forecast.index = X[0]\n",
    "print(forecast[['mean','mean_ci_lower','mean_ci_upper','obs_ci_lower','obs_ci_upper']])"
   ]
  },
  {
   "cell_type": "markdown",
   "id": "08bcc170-98b0-43ca-a79c-f5c3d2dab758",
   "metadata": {},
   "source": [
    "We get an accurate forecast for 2025,2026 and 2027 of prices of industrial roundwood"
   ]
  },
  {
   "cell_type": "code",
   "execution_count": null,
   "id": "0bb21b36-7216-488b-b365-b8cf54c5ee94",
   "metadata": {},
   "outputs": [],
   "source": []
  }
 ],
 "metadata": {
  "kernelspec": {
   "display_name": "Python 3 (ipykernel)",
   "language": "python",
   "name": "python3"
  },
  "language_info": {
   "codemirror_mode": {
    "name": "ipython",
    "version": 3
   },
   "file_extension": ".py",
   "mimetype": "text/x-python",
   "name": "python",
   "nbconvert_exporter": "python",
   "pygments_lexer": "ipython3",
   "version": "3.13.1"
  }
 },
 "nbformat": 4,
 "nbformat_minor": 5
}
