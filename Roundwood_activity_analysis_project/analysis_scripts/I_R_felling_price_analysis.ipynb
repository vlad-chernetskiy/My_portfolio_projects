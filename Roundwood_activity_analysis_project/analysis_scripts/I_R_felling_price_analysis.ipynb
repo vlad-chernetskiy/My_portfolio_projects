{
 "cells": [
  {
   "cell_type": "markdown",
   "id": "6c9ccef2-c5dc-4848-8aef-cf0bc372aa5d",
   "metadata": {},
   "source": [
    "# Creating a regression model Felling/Prices "
   ]
  },
  {
   "cell_type": "code",
   "execution_count": 22,
   "id": "7955a75b-44ac-412b-a7fb-228f0d92012d",
   "metadata": {},
   "outputs": [],
   "source": [
    "import pandas as pd\n",
    "import numpy as np\n",
    "import matplotlib \n",
    "import matplotlib.pyplot as plt\n",
    "import seaborn as sb\n",
    "import statsmodels.api as sm\n",
    "import scipy.stats as sp\n",
    "import statsmodels.stats.diagnostic as ssd"
   ]
  },
  {
   "cell_type": "code",
   "execution_count": 23,
   "id": "80b19fd8-df14-495c-93bf-11d548059f70",
   "metadata": {},
   "outputs": [
    {
     "data": {
      "text/html": [
       "<div>\n",
       "<style scoped>\n",
       "    .dataframe tbody tr th:only-of-type {\n",
       "        vertical-align: middle;\n",
       "    }\n",
       "\n",
       "    .dataframe tbody tr th {\n",
       "        vertical-align: top;\n",
       "    }\n",
       "\n",
       "    .dataframe thead th {\n",
       "        text-align: right;\n",
       "    }\n",
       "</style>\n",
       "<table border=\"1\" class=\"dataframe\">\n",
       "  <thead>\n",
       "    <tr style=\"text-align: right;\">\n",
       "      <th></th>\n",
       "      <th>wood_fuel_cost</th>\n",
       "      <th>year</th>\n",
       "      <th>industrial_rw_cost</th>\n",
       "      <th>sum</th>\n",
       "    </tr>\n",
       "  </thead>\n",
       "  <tbody>\n",
       "    <tr>\n",
       "      <th>1</th>\n",
       "      <td>488.376000</td>\n",
       "      <td>2019</td>\n",
       "      <td>1404.528000</td>\n",
       "      <td>17886600.0</td>\n",
       "    </tr>\n",
       "    <tr>\n",
       "      <th>2</th>\n",
       "      <td>450.210271</td>\n",
       "      <td>2020</td>\n",
       "      <td>1316.084700</td>\n",
       "      <td>16773000.0</td>\n",
       "    </tr>\n",
       "    <tr>\n",
       "      <th>3</th>\n",
       "      <td>568.388960</td>\n",
       "      <td>2021</td>\n",
       "      <td>2290.164254</td>\n",
       "      <td>16666900.0</td>\n",
       "    </tr>\n",
       "    <tr>\n",
       "      <th>4</th>\n",
       "      <td>814.320000</td>\n",
       "      <td>2022</td>\n",
       "      <td>2823.324000</td>\n",
       "      <td>15085100.0</td>\n",
       "    </tr>\n",
       "    <tr>\n",
       "      <th>5</th>\n",
       "      <td>911.826630</td>\n",
       "      <td>2023</td>\n",
       "      <td>2649.323396</td>\n",
       "      <td>15252100.0</td>\n",
       "    </tr>\n",
       "    <tr>\n",
       "      <th>6</th>\n",
       "      <td>906.448000</td>\n",
       "      <td>2024</td>\n",
       "      <td>2887.800112</td>\n",
       "      <td>14885800.0</td>\n",
       "    </tr>\n",
       "  </tbody>\n",
       "</table>\n",
       "</div>"
      ],
      "text/plain": [
       "   wood_fuel_cost  year  industrial_rw_cost         sum\n",
       "1      488.376000  2019         1404.528000  17886600.0\n",
       "2      450.210271  2020         1316.084700  16773000.0\n",
       "3      568.388960  2021         2290.164254  16666900.0\n",
       "4      814.320000  2022         2823.324000  15085100.0\n",
       "5      911.826630  2023         2649.323396  15252100.0\n",
       "6      906.448000  2024         2887.800112  14885800.0"
      ]
     },
     "execution_count": 23,
     "metadata": {},
     "output_type": "execute_result"
    }
   ],
   "source": [
    "df1=pd.DataFrame(pd.read_csv ('C:/Users/borsh/OneDrive/Рабочий стол/BI/projects/ForestlyActivitiesProject/project data/data-1760379126636.csv'))\n",
    "df2=pd.DataFrame(pd.read_csv ('C:/Users/borsh/OneDrive/Рабочий стол/BI/projects/ForestlyActivitiesProject/scripts/data-1759582857171.csv'))\n",
    "df2\n",
    "df2_=df2.drop([0,1,2])\n",
    "df2_\n",
    "df = df1.merge(df2_, on='year', how='outer')\n",
    "df = df.sort_values('year')\n",
    "df_=df.drop(0)# 2018 has extremely low value, that get a bad correlation\n",
    "df_"
   ]
  },
  {
   "cell_type": "code",
   "execution_count": 24,
   "id": "c5a5efaa-9c0e-423f-bdd2-23c3a6105c39",
   "metadata": {},
   "outputs": [
    {
     "data": {
      "image/png": "[encoded data removed]",
      "text/plain": [
       "<Figure size 640x480 with 1 Axes>"
      ]
     },
     "metadata": {},
     "output_type": "display_data"
    }
   ],
   "source": [
    "plt.scatter(x=df_['sum'], y=df_['industrial_rw_cost'])\n",
    "plt.title('Felling/Price')\n",
    "plt.xlabel('Felling')\n",
    "plt.ylabel('Price')\n",
    "plt.show()"
   ]
  },
  {
   "cell_type": "markdown",
   "id": "65dbea70-1a1c-4154-9278-f5667b3d99a1",
   "metadata": {},
   "source": [
    "## Biuld the OLS "
   ]
  },
  {
   "cell_type": "code",
   "execution_count": 25,
   "id": "437a4f2e-3a30-4ff7-aff8-1b431c9ae3be",
   "metadata": {},
   "outputs": [
    {
     "name": "stdout",
     "output_type": "stream",
     "text": [
      "                            OLS Regression Results                            \n",
      "==============================================================================\n",
      "Dep. Variable:     industrial_rw_cost   R-squared:                       0.815\n",
      "Model:                            OLS   Adj. R-squared:                  0.769\n",
      "Method:                 Least Squares   F-statistic:                     17.61\n",
      "Date:                Thu, 30 Oct 2025   Prob (F-statistic):             0.0137\n",
      "Time:                        17:35:40   Log-Likelihood:                -42.250\n",
      "No. Observations:                   6   AIC:                             88.50\n",
      "Df Residuals:                       4   BIC:                             88.08\n",
      "Df Model:                           1                                         \n",
      "Covariance Type:            nonrobust                                         \n",
      "==============================================================================\n",
      "                 coef    std err          t      P>|t|      [0.025      0.975]\n",
      "------------------------------------------------------------------------------\n",
      "const       1.076e+04   2038.285      5.280      0.006    5102.433    1.64e+04\n",
      "sum           -0.0005      0.000     -4.196      0.014      -0.001      -0.000\n",
      "==============================================================================\n",
      "Omnibus:                          nan   Durbin-Watson:                   3.062\n",
      "Prob(Omnibus):                    nan   Jarque-Bera (JB):                0.835\n",
      "Skew:                          -0.911   Prob(JB):                        0.659\n",
      "Kurtosis:                       3.147   Cond. No.                     2.38e+08\n",
      "==============================================================================\n",
      "\n",
      "Notes:\n",
      "[1] Standard Errors assume that the covariance matrix of the errors is correctly specified.\n",
      "[2] The condition number is large, 2.38e+08. This might indicate that there are\n",
      "strong multicollinearity or other numerical problems.\n"
     ]
    },
    {
     "name": "stderr",
     "output_type": "stream",
     "text": [
      "C:\\Users\\borsh\\PycharmProjects\\PythonProject\\.venv\\Lib\\site-packages\\statsmodels\\stats\\stattools.py:74: ValueWarning: omni_normtest is not valid with less than 8 observations; 6 samples were given.\n",
      "  warn(\"omni_normtest is not valid with less than 8 observations; %i \"\n"
     ]
    }
   ],
   "source": [
    "x = sm.add_constant(df_['sum'])\n",
    "y = df_['industrial_rw_cost']\n",
    "OLS_basic = sm.OLS(y,x).fit()\n",
    "print(OLS_basic.summary())"
   ]
  },
  {
   "cell_type": "markdown",
   "id": "296ba794-a571-4794-ad15-399ffad23285",
   "metadata": {},
   "source": [
    "p-value < 0.05 that means that dependence is linear"
   ]
  },
  {
   "cell_type": "markdown",
   "id": "63751939-6603-4656-b090-a6ec9b2feb82",
   "metadata": {},
   "source": [
    "## Build regresstion with lags"
   ]
  },
  {
   "cell_type": "code",
   "execution_count": 26,
   "id": "21743853-741a-40ba-91f3-af074714d9ae",
   "metadata": {},
   "outputs": [
    {
     "name": "stdout",
     "output_type": "stream",
     "text": [
      "                            OLS Regression Results                            \n",
      "==============================================================================\n",
      "Dep. Variable:     industrial_rw_cost   R-squared:                       0.651\n",
      "Model:                            OLS   Adj. R-squared:                  0.534\n",
      "Method:                 Least Squares   F-statistic:                     5.588\n",
      "Date:                Thu, 30 Oct 2025   Prob (F-statistic):             0.0991\n",
      "Time:                        17:35:42   Log-Likelihood:                -36.257\n",
      "No. Observations:                   5   AIC:                             76.51\n",
      "Df Residuals:                       3   BIC:                             75.73\n",
      "Df Model:                           1                                         \n",
      "Covariance Type:            nonrobust                                         \n",
      "==============================================================================\n",
      "                 coef    std err          t      P>|t|      [0.025      0.975]\n",
      "------------------------------------------------------------------------------\n",
      "const       9681.2455   3089.420      3.134      0.052    -150.669    1.95e+04\n",
      "sum_l         -0.0004      0.000     -2.364      0.099      -0.001       0.000\n",
      "==============================================================================\n",
      "Omnibus:                          nan   Durbin-Watson:                   2.295\n",
      "Prob(Omnibus):                    nan   Jarque-Bera (JB):                0.429\n",
      "Skew:                           0.560   Prob(JB):                        0.807\n",
      "Kurtosis:                       2.102   Cond. No.                     2.57e+08\n",
      "==============================================================================\n",
      "\n",
      "Notes:\n",
      "[1] Standard Errors assume that the covariance matrix of the errors is correctly specified.\n",
      "[2] The condition number is large, 2.57e+08. This might indicate that there are\n",
      "strong multicollinearity or other numerical problems.\n"
     ]
    },
    {
     "name": "stderr",
     "output_type": "stream",
     "text": [
      "C:\\Users\\borsh\\PycharmProjects\\PythonProject\\.venv\\Lib\\site-packages\\statsmodels\\stats\\stattools.py:74: ValueWarning: omni_normtest is not valid with less than 8 observations; 5 samples were given.\n",
      "  warn(\"omni_normtest is not valid with less than 8 observations; %i \"\n"
     ]
    }
   ],
   "source": [
    "df_['sum_l']=df_['sum'].shift(1)\n",
    "df_lag=df_.dropna()\n",
    "\n",
    "x_lag = sm.add_constant(df_lag['sum_l'])\n",
    "y_lag= df_lag['industrial_rw_cost']\n",
    "\n",
    "OLS_lag= sm.OLS(y_lag,x_lag).fit()\n",
    "print(OLS_lag.summary())"
   ]
  },
  {
   "cell_type": "markdown",
   "id": "4cbe4c25-b411-441e-a27c-69a450bc557a",
   "metadata": {},
   "source": [
    "That means that price less depence by past values of felling, but correlation still strong, r=0.8, but p-value> 0.05 that means that log-relation not detected   "
   ]
  },
  {
   "cell_type": "markdown",
   "id": "ded0da41-a142-4160-9621-8f2527a5dbf1",
   "metadata": {},
   "source": [
    "## Checking the lags"
   ]
  },
  {
   "cell_type": "code",
   "execution_count": 27,
   "id": "abf89c30-81ec-478f-916d-5d79615131b4",
   "metadata": {},
   "outputs": [
    {
     "name": "stdout",
     "output_type": "stream",
     "text": [
      "Shapiro p-value:  0.5865020576026468\n"
     ]
    }
   ],
   "source": [
    "res=OLS_lag.resid\n",
    "stat,p=sp.shapiro(res)\n",
    "print('Shapiro p-value: ', p)"
   ]
  },
  {
   "cell_type": "markdown",
   "id": "454699eb-7847-4ce6-817c-f39c208f8188",
   "metadata": {},
   "source": [
    "p>0.05 that means than we have normal residuals "
   ]
  },
  {
   "cell_type": "markdown",
   "id": "2a533f5b-30bf-4167-9a2e-5e2fba632193",
   "metadata": {},
   "source": [
    "## Confidence interval (basic model)"
   ]
  },
  {
   "cell_type": "code",
   "execution_count": 28,
   "id": "2889b34d-5e02-40e9-8fcf-900b96984d02",
   "metadata": {},
   "outputs": [
    {
     "name": "stdout",
     "output_type": "stream",
     "text": [
      "          mean  mean_ci_lower  mean_ci_upper\n",
      "1  1276.671852    1079.870428    1473.473275\n",
      "2  1867.194216    1746.500199    1987.888232\n",
      "3  1923.457168    1807.704364    2039.209971\n",
      "4  2762.257703    2623.064891    2901.450514\n",
      "5  2673.700559    2544.574700    2802.826419\n",
      "6  2867.942964    2715.503162    3020.382766\n"
     ]
    }
   ],
   "source": [
    "pred = OLS_basic.get_prediction(x)\n",
    "pred_summary = pred.summary_frame(alpha = 0.5)\n",
    "print(pred_summary[['mean','mean_ci_lower','mean_ci_upper']])"
   ]
  },
  {
   "cell_type": "markdown",
   "id": "dbddb29e-f72b-41a1-93cf-5a01e8be9282",
   "metadata": {},
   "source": [
    "## Prediction interval(basic model)"
   ]
  },
  {
   "cell_type": "code",
   "execution_count": 29,
   "id": "9af364c1-c6fc-4a1c-af4d-3ed4a594aca7",
   "metadata": {},
   "outputs": [
    {
     "name": "stdout",
     "output_type": "stream",
     "text": [
      "          mean  obs_ci_lower  obs_ci_upper\n",
      "1  1276.671852    957.732847   1595.610856\n",
      "2  1867.194216   1588.701246   2145.687185\n",
      "3  1923.457168   1647.069758   2199.844577\n",
      "4  2762.257703   2475.263056   3049.252349\n",
      "5  2673.700559   2391.451067   2955.950052\n",
      "6  2867.942964   2574.294907   3161.591022\n"
     ]
    }
   ],
   "source": [
    "pred = OLS_basic.get_prediction(x)\n",
    "pred_summary = pred.summary_frame(alpha = 0.5)\n",
    "print(pred_summary[['mean','obs_ci_lower','obs_ci_upper']])"
   ]
  },
  {
   "cell_type": "code",
   "execution_count": 30,
   "id": "bfb27991-cd1f-437f-a5fa-0eddf5dad923",
   "metadata": {},
   "outputs": [
    {
     "data": {
      "image/png": "[encoded data removed]",
      "text/plain": [
       "<Figure size 640x480 with 1 Axes>"
      ]
     },
     "metadata": {},
     "output_type": "display_data"
    }
   ],
   "source": [
    "plt.scatter(df_['sum'],df_['industrial_rw_cost'],color ='blue',label = 'Price')\n",
    "plt.plot(df_['sum'],pred_summary['mean'],color ='red', label = 'Prediction')\n",
    "plt.fill_between(df_['sum'], pred_summary['obs_ci_lower'], pred_summary['obs_ci_upper'],color = 'red', alpha =0.2, label = '95%')\n",
    "plt.xlabel('felling')\n",
    "plt.ylabel('price')\n",
    "plt.title('Prediction with prediction interval')\n",
    "plt.legend()\n",
    "plt.show()"
   ]
  },
  {
   "cell_type": "markdown",
   "id": "b405eaaf-6b85-433d-8653-968ed135c91e",
   "metadata": {},
   "source": [
    "## Get forecast for the next 3 years"
   ]
  },
  {
   "cell_type": "code",
   "execution_count": 36,
   "id": "8f1499ec-f55f-4f31-b9e4-6c63bc9c0658",
   "metadata": {},
   "outputs": [
    {
     "name": "stdout",
     "output_type": "stream",
     "text": [
      "                      mean  mean_ci_lower  mean_ci_upper  obs_ci_lower  \\\n",
      "felling value                                                            \n",
      "17886600.0     1276.671852     538.977104    2014.366599     81.153930   \n",
      "16773000.0     1867.194216    1414.782132    2319.606300    823.285095   \n",
      "16666900.0     1923.457168    1489.566835    2357.347500    887.440575   \n",
      "15085100.0     2762.257703    2240.504333    3284.011073   1686.480710   \n",
      "15252100.0     2673.700559    2189.682371    3157.718748   1615.710405   \n",
      "14885800.0     2867.942964    2296.534285    3439.351644   1767.226180   \n",
      "14092180.0     3288.785600    2488.990897    4088.580302   2053.981516   \n",
      "13590630.0     3554.748685    2596.856444    4512.640926   2212.129191   \n",
      "13089070.0     3820.717073    2699.383100    4942.051047   2357.002811   \n",
      "\n",
      "               obs_ci_upper  \n",
      "felling value                \n",
      "17886600.0      2472.189773  \n",
      "16773000.0      2911.103337  \n",
      "16666900.0      2959.473760  \n",
      "15085100.0      3838.034696  \n",
      "15252100.0      3731.690714  \n",
      "14885800.0      3968.659748  \n",
      "14092180.0      4523.589683  \n",
      "13590630.0      4897.368179  \n",
      "13089070.0      5284.431335  \n"
     ]
    }
   ],
   "source": [
    "X=sm.add_constant(pd.Series(pd.concat([df_['sum'],pd.Series([1.409218e+07,1.359063e+07, 1.308907e+07])]), name='felling value'))\n",
    "prediction= OLS_basic.get_prediction(X)\n",
    "forecast=prediction.summary_frame(alpha=0.05)\n",
    "forecast.index = X['felling value']\n",
    "print(forecast[['mean','mean_ci_lower','mean_ci_upper','obs_ci_lower','obs_ci_upper']])\n"
   ]
  },
  {
   "cell_type": "code",
   "execution_count": null,
   "id": "fdf43b38-d99e-43e5-8b77-2c8975af86d2",
   "metadata": {},
   "outputs": [],
   "source": []
  }
 ],
 "metadata": {
  "kernelspec": {
   "display_name": "Python 3 (ipykernel)",
   "language": "python",
   "name": "python3"
  },
  "language_info": {
   "codemirror_mode": {
    "name": "ipython",
    "version": 3
   },
   "file_extension": ".py",
   "mimetype": "text/x-python",
   "name": "python",
   "nbconvert_exporter": "python",
   "pygments_lexer": "ipython3",
   "version": "3.13.1"
  }
 },
 "nbformat": 4,
 "nbformat_minor": 5
}
