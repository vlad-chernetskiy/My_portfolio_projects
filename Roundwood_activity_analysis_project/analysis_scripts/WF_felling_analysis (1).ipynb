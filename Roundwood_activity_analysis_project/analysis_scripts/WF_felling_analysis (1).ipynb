{
 "cells": [
  {
   "cell_type": "code",
   "execution_count": 6,
   "id": "db1a7bc0-272f-422e-90fb-38d54ab7f7ff",
   "metadata": {},
   "outputs": [],
   "source": [
    "import pandas as pd\n",
    "import numpy as np\n",
    "import matplotlib \n",
    "import matplotlib.pyplot as plt\n",
    "import seaborn as sb\n",
    "import statsmodels.api as sm\n",
    "import scipy.stats as sp\n",
    "import statsmodels.stats.diagnostic as ssd"
   ]
  },
  {
   "cell_type": "code",
   "execution_count": 7,
   "id": "0dd3d7b5-571c-4776-bf3a-bfe03a45a0e4",
   "metadata": {},
   "outputs": [
    {
     "data": {
      "text/html": [
       "<div>\n",
       "<style scoped>\n",
       "    .dataframe tbody tr th:only-of-type {\n",
       "        vertical-align: middle;\n",
       "    }\n",
       "\n",
       "    .dataframe tbody tr th {\n",
       "        vertical-align: top;\n",
       "    }\n",
       "\n",
       "    .dataframe thead th {\n",
       "        text-align: right;\n",
       "    }\n",
       "</style>\n",
       "<table border=\"1\" class=\"dataframe\">\n",
       "  <thead>\n",
       "    <tr style=\"text-align: right;\">\n",
       "      <th></th>\n",
       "      <th>wood_fuel_cost</th>\n",
       "      <th>year</th>\n",
       "      <th>industrial_rw_cost</th>\n",
       "      <th>sum</th>\n",
       "    </tr>\n",
       "  </thead>\n",
       "  <tbody>\n",
       "    <tr>\n",
       "      <th>1</th>\n",
       "      <td>488.376000</td>\n",
       "      <td>2019</td>\n",
       "      <td>1404.528000</td>\n",
       "      <td>17886600.0</td>\n",
       "    </tr>\n",
       "    <tr>\n",
       "      <th>2</th>\n",
       "      <td>450.210271</td>\n",
       "      <td>2020</td>\n",
       "      <td>1316.084700</td>\n",
       "      <td>16773000.0</td>\n",
       "    </tr>\n",
       "    <tr>\n",
       "      <th>3</th>\n",
       "      <td>568.388960</td>\n",
       "      <td>2021</td>\n",
       "      <td>2290.164254</td>\n",
       "      <td>16666900.0</td>\n",
       "    </tr>\n",
       "    <tr>\n",
       "      <th>4</th>\n",
       "      <td>814.320000</td>\n",
       "      <td>2022</td>\n",
       "      <td>2823.324000</td>\n",
       "      <td>15085100.0</td>\n",
       "    </tr>\n",
       "    <tr>\n",
       "      <th>5</th>\n",
       "      <td>911.826630</td>\n",
       "      <td>2023</td>\n",
       "      <td>2649.323396</td>\n",
       "      <td>15252100.0</td>\n",
       "    </tr>\n",
       "    <tr>\n",
       "      <th>6</th>\n",
       "      <td>906.448000</td>\n",
       "      <td>2024</td>\n",
       "      <td>2887.800112</td>\n",
       "      <td>14885800.0</td>\n",
       "    </tr>\n",
       "  </tbody>\n",
       "</table>\n",
       "</div>"
      ],
      "text/plain": [
       "   wood_fuel_cost  year  industrial_rw_cost         sum\n",
       "1      488.376000  2019         1404.528000  17886600.0\n",
       "2      450.210271  2020         1316.084700  16773000.0\n",
       "3      568.388960  2021         2290.164254  16666900.0\n",
       "4      814.320000  2022         2823.324000  15085100.0\n",
       "5      911.826630  2023         2649.323396  15252100.0\n",
       "6      906.448000  2024         2887.800112  14885800.0"
      ]
     },
     "execution_count": 7,
     "metadata": {},
     "output_type": "execute_result"
    }
   ],
   "source": [
    "df1=pd.DataFrame(pd.read_csv ('C:/Users/borsh/OneDrive/Рабочий стол/BI/projects/ForestlyActivitiesProject/project data/data-1760379126636.csv'))\n",
    "df2=pd.DataFrame(pd.read_csv ('C:/Users/borsh/OneDrive/Рабочий стол/BI/projects/ForestlyActivitiesProject/scripts/data-1759582857171.csv'))\n",
    "df2\n",
    "df2_=df2.drop([0,1,2])\n",
    "df2_\n",
    "df = df1.merge(df2_, on='year', how='outer')\n",
    "df = df.sort_values('year')\n",
    "df_=df.drop(0)# 2018 has extremely low value, that get a bad correlation\n",
    "df_"
   ]
  },
  {
   "cell_type": "code",
   "execution_count": 8,
   "id": "94f019b4-1330-45c6-ba81-c2e427f5c56f",
   "metadata": {},
   "outputs": [
    {
     "data": {
      "image/png": "[encoded data removed]",
      "text/plain": [
       "<Figure size 640x480 with 1 Axes>"
      ]
     },
     "metadata": {},
     "output_type": "display_data"
    }
   ],
   "source": [
    "#show the plot to look at the data \n",
    "plt.scatter(x=df_['sum'],y=df_['wood_fuel_cost'])\n",
    "plt.title('Wood fuel/felling')\n",
    "plt.xlabel('Felling')\n",
    "plt.ylabel('Price')\n",
    "plt.show()\n"
   ]
  },
  {
   "cell_type": "code",
   "execution_count": 9,
   "id": "47cf1343-fc60-487c-8b5a-3b4eb65172e9",
   "metadata": {},
   "outputs": [
    {
     "data": {
      "text/html": [
       "<div>\n",
       "<style scoped>\n",
       "    .dataframe tbody tr th:only-of-type {\n",
       "        vertical-align: middle;\n",
       "    }\n",
       "\n",
       "    .dataframe tbody tr th {\n",
       "        vertical-align: top;\n",
       "    }\n",
       "\n",
       "    .dataframe thead th {\n",
       "        text-align: right;\n",
       "    }\n",
       "</style>\n",
       "<table border=\"1\" class=\"dataframe\">\n",
       "  <thead>\n",
       "    <tr style=\"text-align: right;\">\n",
       "      <th></th>\n",
       "      <th>wood_fuel_cost</th>\n",
       "      <th>year</th>\n",
       "      <th>industrial_rw_cost</th>\n",
       "      <th>sum</th>\n",
       "    </tr>\n",
       "  </thead>\n",
       "  <tbody>\n",
       "    <tr>\n",
       "      <th>wood_fuel_cost</th>\n",
       "      <td>1.000000</td>\n",
       "      <td>0.938781</td>\n",
       "      <td>0.921223</td>\n",
       "      <td>-0.919181</td>\n",
       "    </tr>\n",
       "    <tr>\n",
       "      <th>year</th>\n",
       "      <td>0.938781</td>\n",
       "      <td>1.000000</td>\n",
       "      <td>0.906763</td>\n",
       "      <td>-0.942746</td>\n",
       "    </tr>\n",
       "    <tr>\n",
       "      <th>industrial_rw_cost</th>\n",
       "      <td>0.921223</td>\n",
       "      <td>0.906763</td>\n",
       "      <td>1.000000</td>\n",
       "      <td>-0.902704</td>\n",
       "    </tr>\n",
       "    <tr>\n",
       "      <th>sum</th>\n",
       "      <td>-0.919181</td>\n",
       "      <td>-0.942746</td>\n",
       "      <td>-0.902704</td>\n",
       "      <td>1.000000</td>\n",
       "    </tr>\n",
       "  </tbody>\n",
       "</table>\n",
       "</div>"
      ],
      "text/plain": [
       "                    wood_fuel_cost      year  industrial_rw_cost       sum\n",
       "wood_fuel_cost            1.000000  0.938781            0.921223 -0.919181\n",
       "year                      0.938781  1.000000            0.906763 -0.942746\n",
       "industrial_rw_cost        0.921223  0.906763            1.000000 -0.902704\n",
       "sum                      -0.919181 -0.942746           -0.902704  1.000000"
      ]
     },
     "execution_count": 9,
     "metadata": {},
     "output_type": "execute_result"
    }
   ],
   "source": [
    "df_.corr()"
   ]
  },
  {
   "cell_type": "markdown",
   "id": "6e16b473-b4fb-4936-993a-8c0435519034",
   "metadata": {},
   "source": [
    "## Biuld the OLS "
   ]
  },
  {
   "cell_type": "code",
   "execution_count": 10,
   "id": "8779651f-37a8-4341-9f96-17b0719ce6cd",
   "metadata": {},
   "outputs": [
    {
     "name": "stdout",
     "output_type": "stream",
     "text": [
      "                            OLS Regression Results                            \n",
      "==============================================================================\n",
      "Dep. Variable:         wood_fuel_cost   R-squared:                       0.845\n",
      "Model:                            OLS   Adj. R-squared:                  0.806\n",
      "Method:                 Least Squares   F-statistic:                     21.79\n",
      "Date:                Thu, 30 Oct 2025   Prob (F-statistic):            0.00953\n",
      "Time:                        17:09:44   Log-Likelihood:                -34.512\n",
      "No. Observations:                   6   AIC:                             73.02\n",
      "Df Residuals:                       4   BIC:                             72.61\n",
      "Df Model:                           1                                         \n",
      "Covariance Type:            nonrobust                                         \n",
      "==============================================================================\n",
      "                 coef    std err          t      P>|t|      [0.025      0.975]\n",
      "------------------------------------------------------------------------------\n",
      "const       3303.4528    561.192      5.886      0.004    1745.334    4861.572\n",
      "sum           -0.0002   3.48e-05     -4.668      0.010      -0.000   -6.58e-05\n",
      "==============================================================================\n",
      "Omnibus:                          nan   Durbin-Watson:                   2.241\n",
      "Prob(Omnibus):                    nan   Jarque-Bera (JB):                0.368\n",
      "Skew:                          -0.327   Prob(JB):                        0.832\n",
      "Kurtosis:                       1.978   Cond. No.                     2.38e+08\n",
      "==============================================================================\n",
      "\n",
      "Notes:\n",
      "[1] Standard Errors assume that the covariance matrix of the errors is correctly specified.\n",
      "[2] The condition number is large, 2.38e+08. This might indicate that there are\n",
      "strong multicollinearity or other numerical problems.\n"
     ]
    },
    {
     "name": "stderr",
     "output_type": "stream",
     "text": [
      "C:\\Users\\borsh\\PycharmProjects\\PythonProject\\.venv\\Lib\\site-packages\\statsmodels\\stats\\stattools.py:74: ValueWarning: omni_normtest is not valid with less than 8 observations; 6 samples were given.\n",
      "  warn(\"omni_normtest is not valid with less than 8 observations; %i \"\n"
     ]
    }
   ],
   "source": [
    "x = sm.add_constant(df_['sum'])\n",
    "y = df_['wood_fuel_cost']\n",
    "OLS_basic = sm.OLS(y,x).fit()\n",
    "print(OLS_basic.summary())"
   ]
  },
  {
   "cell_type": "markdown",
   "id": "76cfbb8a-dc13-4f94-8b7b-e174378a019d",
   "metadata": {},
   "source": [
    "## Build regresstion with lags"
   ]
  },
  {
   "cell_type": "code",
   "execution_count": 11,
   "id": "dc6051b1-8d1f-447f-9c4f-2b4c6c2cc885",
   "metadata": {},
   "outputs": [
    {
     "name": "stdout",
     "output_type": "stream",
     "text": [
      "                            OLS Regression Results                            \n",
      "==============================================================================\n",
      "Dep. Variable:         wood_fuel_cost   R-squared:                       0.838\n",
      "Model:                            OLS   Adj. R-squared:                  0.784\n",
      "Method:                 Least Squares   F-statistic:                     15.50\n",
      "Date:                Thu, 30 Oct 2025   Prob (F-statistic):             0.0292\n",
      "Time:                        17:09:45   Log-Likelihood:                -28.714\n",
      "No. Observations:                   5   AIC:                             61.43\n",
      "Df Residuals:                       3   BIC:                             60.65\n",
      "Df Model:                           1                                         \n",
      "Covariance Type:            nonrobust                                         \n",
      "==============================================================================\n",
      "                 coef    std err          t      P>|t|      [0.025      0.975]\n",
      "------------------------------------------------------------------------------\n",
      "const       3415.9609    683.529      4.998      0.015    1240.665    5591.256\n",
      "sum_l         -0.0002   4.18e-05     -3.937      0.029      -0.000   -3.15e-05\n",
      "==============================================================================\n",
      "Omnibus:                          nan   Durbin-Watson:                   2.926\n",
      "Prob(Omnibus):                    nan   Jarque-Bera (JB):                0.699\n",
      "Skew:                           0.904   Prob(JB):                        0.705\n",
      "Kurtosis:                       2.700   Cond. No.                     2.57e+08\n",
      "==============================================================================\n",
      "\n",
      "Notes:\n",
      "[1] Standard Errors assume that the covariance matrix of the errors is correctly specified.\n",
      "[2] The condition number is large, 2.57e+08. This might indicate that there are\n",
      "strong multicollinearity or other numerical problems.\n"
     ]
    },
    {
     "name": "stderr",
     "output_type": "stream",
     "text": [
      "C:\\Users\\borsh\\PycharmProjects\\PythonProject\\.venv\\Lib\\site-packages\\statsmodels\\stats\\stattools.py:74: ValueWarning: omni_normtest is not valid with less than 8 observations; 5 samples were given.\n",
      "  warn(\"omni_normtest is not valid with less than 8 observations; %i \"\n"
     ]
    }
   ],
   "source": [
    "df_['sum_l']=df_['sum'].shift(1)\n",
    "df_lag=df_.dropna()\n",
    "\n",
    "x_lag = sm.add_constant(df_lag['sum_l'])\n",
    "y_lag= df_lag['wood_fuel_cost']\n",
    "\n",
    "OLS_lag= sm.OLS(y_lag,x_lag).fit()\n",
    "print(OLS_lag.summary())"
   ]
  },
  {
   "cell_type": "markdown",
   "id": "73730f74-fa85-4cb2-aa82-8cdeebfd4fe4",
   "metadata": {},
   "source": [
    "That means that price less depence by past values of felling"
   ]
  },
  {
   "cell_type": "markdown",
   "id": "4cfc3fc2-f0fb-46c3-a1d7-66680bb35f1f",
   "metadata": {},
   "source": [
    "## Checking the lags"
   ]
  },
  {
   "cell_type": "code",
   "execution_count": 12,
   "id": "ba627722-fc64-4b0c-aad0-7aba13058e19",
   "metadata": {},
   "outputs": [
    {
     "name": "stdout",
     "output_type": "stream",
     "text": [
      "Shapiro p-value:  0.2655268707447847\n"
     ]
    }
   ],
   "source": [
    "res=OLS_lag.resid\n",
    "stat,p=sp.shapiro(res)\n",
    "print('Shapiro p-value: ', p)"
   ]
  },
  {
   "cell_type": "markdown",
   "id": "201aeed9-ecc0-4347-9687-14bd9f526a56",
   "metadata": {},
   "source": [
    "p>0.05 that means than we have normal residuals"
   ]
  },
  {
   "cell_type": "markdown",
   "id": "caf0ed9d-28f5-444b-a1a8-4b317f8a905f",
   "metadata": {},
   "source": [
    "### Autocorrelation"
   ]
  },
  {
   "cell_type": "code",
   "execution_count": 13,
   "id": "a06e46e3-f912-470e-8d70-9ff7acdc69fa",
   "metadata": {},
   "outputs": [
    {
     "name": "stdout",
     "output_type": "stream",
     "text": [
      "    lb_stat  lb_pvalue\n",
      "1  1.960546   0.161455\n",
      "2  1.993178   0.369136\n",
      "3  2.004078   0.571561\n"
     ]
    }
   ],
   "source": [
    "ac_test =ssd.acorr_ljungbox(res,lags=[1,2,3],return_df=True)\n",
    "print(ac_test)"
   ]
  },
  {
   "cell_type": "markdown",
   "id": "2d42e0c4-ca5a-4cb4-8d05-a1d5442ea55f",
   "metadata": {},
   "source": [
    "all p-values > 0.05, that means that autocorrelation is epcente"
   ]
  },
  {
   "cell_type": "markdown",
   "id": "93a7f608-ba0e-4f28-8605-e01c602bb4ec",
   "metadata": {},
   "source": [
    "## check the errors stability"
   ]
  },
  {
   "cell_type": "code",
   "execution_count": 14,
   "id": "e733551d-f396-447d-b9a9-5fa9883af90a",
   "metadata": {},
   "outputs": [
    {
     "name": "stdout",
     "output_type": "stream",
     "text": [
      "(np.float64(0.3475871108593781), np.float64(0.5554821963600549), np.float64(0.22413344589687717), np.float64(0.6682268169782112))\n"
     ]
    }
   ],
   "source": [
    "bp_test = ssd.het_breuschpagan(res,OLS_lag.model.exog)\n",
    "print(bp_test)"
   ]
  },
  {
   "cell_type": "markdown",
   "id": "cc6c91d9-471c-4967-8f6a-c86c63414c7e",
   "metadata": {},
   "source": [
    "all values more that 0.05 errors are stable"
   ]
  },
  {
   "cell_type": "markdown",
   "id": "63f137f8-296b-4db9-b0a9-0a83b948c1b9",
   "metadata": {},
   "source": [
    "## Confidence interval (basic model)"
   ]
  },
  {
   "cell_type": "code",
   "execution_count": 15,
   "id": "87e38579-63d9-43b5-9292-9e73a6c7c259",
   "metadata": {},
   "outputs": [
    {
     "name": "stdout",
     "output_type": "stream",
     "text": [
      "         mean  mean_ci_lower  mean_ci_upper\n",
      "1  398.389567     344.205098     452.574036\n",
      "2  579.255600     546.025448     612.485752\n",
      "3  596.487898     564.618188     628.357607\n",
      "4  853.396924     815.073580     891.720268\n",
      "5  826.273515     790.721861     861.825170\n",
      "6  885.766357     843.795777     927.736936\n"
     ]
    }
   ],
   "source": [
    "pred = OLS_basic.get_prediction(x)\n",
    "pred_summary = pred.summary_frame(alpha = 0.5)\n",
    "print(pred_summary[['mean','mean_ci_lower','mean_ci_upper']])"
   ]
  },
  {
   "cell_type": "markdown",
   "id": "fb257b9c-c16c-4a93-93b4-4ed11b3b1631",
   "metadata": {},
   "source": [
    "## Prediction interval(basic model)"
   ]
  },
  {
   "cell_type": "code",
   "execution_count": 16,
   "id": "16b64ae4-1c33-4e10-9336-002cf6115526",
   "metadata": {},
   "outputs": [
    {
     "name": "stdout",
     "output_type": "stream",
     "text": [
      "         mean  obs_ci_lower  obs_ci_upper\n",
      "1  398.389567    310.577495    486.201639\n",
      "2  579.255600    502.579357    655.931843\n",
      "3  596.487898    520.391369    672.584426\n",
      "4  853.396924    774.379951    932.413896\n",
      "5  826.273515    748.563005    903.984025\n",
      "6  885.766357    804.917530    966.615183\n"
     ]
    }
   ],
   "source": [
    "pred = OLS_basic.get_prediction(x)\n",
    "pred_summary = pred.summary_frame(alpha = 0.5)\n",
    "print(pred_summary[['mean','obs_ci_lower','obs_ci_upper']])"
   ]
  },
  {
   "cell_type": "code",
   "execution_count": 17,
   "id": "9e2416ef-7422-4f1b-a3ab-5722f878820e",
   "metadata": {},
   "outputs": [
    {
     "data": {
      "image/png": "[encoded data removed]",
      "text/plain": [
       "<Figure size 640x480 with 1 Axes>"
      ]
     },
     "metadata": {},
     "output_type": "display_data"
    }
   ],
   "source": [
    "plt.scatter(df_['sum'],df_['wood_fuel_cost'],color ='blue',label = 'Price')\n",
    "plt.plot(df_['sum'],pred_summary['mean'],color ='red', label = 'Prediction')\n",
    "plt.fill_between(df_['sum'], pred_summary['obs_ci_lower'], pred_summary['obs_ci_upper'],color = 'red', alpha =0.2, label = '95%')\n",
    "plt.xlabel('felling')\n",
    "plt.ylabel('price')\n",
    "plt.title('Prediction with prediction interval')\n",
    "plt.legend()\n",
    "plt.show()"
   ]
  },
  {
   "cell_type": "markdown",
   "id": "dfb9ee5f-4704-4033-87a3-4524254cb5e2",
   "metadata": {},
   "source": [
    "## Confidence interval (lags model)"
   ]
  },
  {
   "cell_type": "code",
   "execution_count": 18,
   "id": "9fcf46a8-b605-4b91-a929-e495294690c4",
   "metadata": {},
   "outputs": [
    {
     "name": "stdout",
     "output_type": "stream",
     "text": [
      "         mean  mean_ci_lower  mean_ci_upper\n",
      "2  398.389567     344.205098     452.574036\n",
      "3  579.255600     546.025448     612.485752\n",
      "4  596.487898     564.618188     628.357607\n",
      "5  853.396924     815.073580     891.720268\n",
      "6  826.273515     790.721861     861.825170\n"
     ]
    }
   ],
   "source": [
    "pred = OLS_basic.get_prediction(x_lag)\n",
    "pred_summary = pred.summary_frame(alpha = 0.5)\n",
    "print(pred_summary[['mean','mean_ci_lower','mean_ci_upper']])"
   ]
  },
  {
   "cell_type": "code",
   "execution_count": 19,
   "id": "436bc81b-5e98-4899-ac34-4ce906593e58",
   "metadata": {},
   "outputs": [
    {
     "name": "stdout",
     "output_type": "stream",
     "text": [
      "         mean  obs_ci_lower  obs_ci_upper\n",
      "2  398.389567    310.577495    486.201639\n",
      "3  579.255600    502.579357    655.931843\n",
      "4  596.487898    520.391369    672.584426\n",
      "5  853.396924    774.379951    932.413896\n",
      "6  826.273515    748.563005    903.984025\n"
     ]
    }
   ],
   "source": [
    "pred = OLS_basic.get_prediction(x_lag)\n",
    "pred_summary_lag = pred.summary_frame(alpha = 0.5)\n",
    "print(pred_summary_lag[['mean','obs_ci_lower','obs_ci_upper']])"
   ]
  },
  {
   "cell_type": "code",
   "execution_count": 20,
   "id": "a9787a44-9587-4bd0-96db-03f8ff2468ab",
   "metadata": {},
   "outputs": [
    {
     "data": {
      "image/png": "[encoded data removed]",
      "text/plain": [
       "<Figure size 640x480 with 1 Axes>"
      ]
     },
     "metadata": {},
     "output_type": "display_data"
    }
   ],
   "source": [
    "plt.scatter(df_['sum'],df_['wood_fuel_cost'],color ='blue',label = 'Price')\n",
    "plt.plot(x_lag['sum_l'],pred_summary_lag['mean'],color ='red', label = 'Prediction')\n",
    "plt.fill_between(x_lag['sum_l'], pred_summary_lag['obs_ci_lower'], pred_summary_lag['obs_ci_upper'],color = 'red', alpha =0.2, label = '95%')\n",
    "plt.xlabel('felling')\n",
    "plt.ylabel('price')\n",
    "plt.title('Prediction with prediction interval')\n",
    "plt.legend()\n",
    "plt.show()"
   ]
  },
  {
   "cell_type": "markdown",
   "id": "3339c222-5595-4e0a-8f8e-651b638eddd4",
   "metadata": {},
   "source": [
    "## Lets make a prediction by basic and lag models"
   ]
  },
  {
   "cell_type": "markdown",
   "id": "d1159f74-b8d6-4c1c-bd85-2261954ccf91",
   "metadata": {},
   "source": [
    "### Basic model"
   ]
  },
  {
   "cell_type": "code",
   "execution_count": 25,
   "id": "66a3d28b-28d7-4bd8-9ef6-3ffd0702109e",
   "metadata": {},
   "outputs": [
    {
     "name": "stdout",
     "output_type": "stream",
     "text": [
      "                      mean  mean_ci_lower  mean_ci_upper  obs_ci_lower  \\\n",
      "felling value                                                            \n",
      "17886600.0      398.389567     195.283320     601.495814     69.232881   \n",
      "16773000.0      579.255600     454.694973     703.816227    291.840698   \n",
      "16666900.0      596.487898     477.026783     715.949012    311.246011   \n",
      "15085100.0      853.396924     709.744866     997.048982    557.207981   \n",
      "15252100.0      826.273515     693.010919     959.536112    534.981744   \n",
      "14885800.0      885.766357     728.442921    1043.089793    582.710851   \n",
      "14092180.0     1014.662640     794.458686    1234.866594    674.689469   \n",
      "13590630.0     1096.122194     832.389941    1359.854447    726.464680   \n",
      "13089070.0     1177.583372     868.851426    1486.315318    774.585369   \n",
      "\n",
      "               obs_ci_upper  \n",
      "felling value                \n",
      "17886600.0       727.546253  \n",
      "16773000.0       866.670502  \n",
      "16666900.0       881.729785  \n",
      "15085100.0      1149.585867  \n",
      "15252100.0      1117.565286  \n",
      "14885800.0      1188.821862  \n",
      "14092180.0      1354.635812  \n",
      "13590630.0      1465.779708  \n",
      "13089070.0      1580.581375  \n"
     ]
    }
   ],
   "source": [
    "X=sm.add_constant(pd.Series(pd.concat([df_['sum'],pd.Series([1.409218e+07,1.359063e+07, 1.308907e+07])]), name='felling value'))\n",
    "prediction= OLS_basic.get_prediction(X)\n",
    "forecast=prediction.summary_frame(alpha=0.05)\n",
    "forecast.index = X['felling value']\n",
    "print(forecast[['mean','mean_ci_lower','mean_ci_upper','obs_ci_lower','obs_ci_upper']])"
   ]
  },
  {
   "cell_type": "markdown",
   "id": "2b0e014f-c25f-4831-9c2f-6a2c7aa6a4b2",
   "metadata": {},
   "source": [
    "### Lag model"
   ]
  },
  {
   "cell_type": "code",
   "execution_count": 26,
   "id": "590c9329-f50d-4cd0-ae23-c39cb6b34da7",
   "metadata": {},
   "outputs": [
    {
     "name": "stdout",
     "output_type": "stream",
     "text": [
      "                      mean  mean_ci_lower  mean_ci_upper  obs_ci_lower  \\\n",
      "felling value                                                            \n",
      "17886600.0      474.725234     225.944580     723.505889     77.139585   \n",
      "16773000.0      657.843325     507.308362     808.378288    313.106744   \n",
      "16666900.0      675.290190     529.656423     820.923957    332.665426   \n",
      "15085100.0      935.398124     719.212550    1151.583697    557.352178   \n",
      "15252100.0      907.936988     708.269554    1107.604422    539.087941   \n",
      "14885800.0      968.170605     731.055417    1205.285793    577.778306   \n",
      "14092180.0     1098.671843     770.153935    1427.189751    646.890313   \n",
      "13590630.0     1181.145692     791.179664    1571.111720    682.892707   \n",
      "13089070.0     1263.621185     810.728028    1716.514343    714.717964   \n",
      "\n",
      "               obs_ci_upper  \n",
      "felling value                \n",
      "17886600.0       872.310884  \n",
      "16773000.0      1002.579905  \n",
      "16666900.0      1017.914954  \n",
      "15085100.0      1313.444069  \n",
      "15252100.0      1276.786034  \n",
      "14885800.0      1358.562904  \n",
      "14092180.0      1550.453373  \n",
      "13590630.0      1679.398678  \n",
      "13089070.0      1812.524407  \n"
     ]
    }
   ],
   "source": [
    "X=sm.add_constant(pd.Series(pd.concat([df_['sum'],pd.Series([1.409218e+07,1.359063e+07, 1.308907e+07])]), name='felling value'))\n",
    "prediction= OLS_lag.get_prediction(X)\n",
    "forecast=prediction.summary_frame(alpha=0.05)\n",
    "forecast.index = X['felling value']\n",
    "print(forecast[['mean','mean_ci_lower','mean_ci_upper','obs_ci_lower','obs_ci_upper']])"
   ]
  },
  {
   "cell_type": "code",
   "execution_count": null,
   "id": "9d6df75f-eccb-417d-8cec-5fa66fa5255b",
   "metadata": {},
   "outputs": [],
   "source": []
  }
 ],
 "metadata": {
  "kernelspec": {
   "display_name": "Python 3 (ipykernel)",
   "language": "python",
   "name": "python3"
  },
  "language_info": {
   "codemirror_mode": {
    "name": "ipython",
    "version": 3
   },
   "file_extension": ".py",
   "mimetype": "text/x-python",
   "name": "python",
   "nbconvert_exporter": "python",
   "pygments_lexer": "ipython3",
   "version": "3.13.1"
  }
 },
 "nbformat": 4,
 "nbformat_minor": 5
}
